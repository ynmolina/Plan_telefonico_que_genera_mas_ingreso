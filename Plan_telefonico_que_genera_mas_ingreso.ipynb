{
 "cells": [
  {
   "cell_type": "markdown",
   "metadata": {},
   "source": [
    "# ¿Cuál es el plan telefonico que genera más ingreso?\n",
    "\n",
    "La empresa de telecomunicaciones Megaline ofrece a sus clientes dos tarifas de prepago, Surf y Ultimate. El departamento comercial quiere saber cuál de los planes genera más ingresos para poder ajustar el presupuesto de publicidad.\n",
    "\n",
    "Se realizará un análisis preliminar de las tarifas basado en una selección de clientes relativamente pequeña. Se tiene datos de 500 clientes de Megaline: quiénes son los clientes, de dónde son, qué tarifa usan, así como la cantidad de llamadas que hicieron y los mensajes de texto que enviaron en 2018. Se analizará el comportamiento de los clientes y determinará qué tarifa de prepago genera más ingresos."
   ]
  },
  {
   "cell_type": "markdown",
   "metadata": {},
   "source": [
    "## Introducción\n",
    "**Propósito del proyecto**\n",
    "\n",
    "Conocer cuál de los dos planes \"Surf\" y \"Ultimate\" le genera más ingresos al operador de telecomunicaciones Megaline\n",
    "\n",
    "\n",
    "### Objetivos:\n",
    "1. Realizar los ajustes necesarios a la data al momento de ir explorando los datos.\n",
    "2. Analizar el comportamiento y el ingreso promedio de los clientes por regiones.\n",
    "3. Determinar qué tarifa de prepago genera más ingresos, si \"Surf\" o \"Ultimate\"."
   ]
  },
  {
   "cell_type": "markdown",
   "metadata": {},
   "source": [
    "## Inicialización"
   ]
  },
  {
   "cell_type": "code",
   "execution_count": 1,
   "metadata": {},
   "outputs": [],
   "source": [
    "# Cargando todas las librerías\n",
    "import pandas as pd\n",
    "import numpy as np\n",
    "import matplotlib.pyplot as plt\n",
    "import scipy as scipy\n",
    "import seaborn as sns\n",
    "import scipy.stats as stats\n",
    "from scipy.stats import ttest_ind\n",
    "from scipy.stats import ttest_rel\n",
    "from scipy import stats\n",
    "from scipy import stats as st"
   ]
  },
  {
   "cell_type": "markdown",
   "metadata": {},
   "source": [
    "## Cargando los datos"
   ]
  },
  {
   "cell_type": "code",
   "execution_count": 2,
   "metadata": {},
   "outputs": [],
   "source": [
    "# Cargando los archivos de datos en diferentes DataFrames\n",
    "calls_data = pd.read_csv('/datasets/megaline_calls.csv')\n",
    "internet_data = pd.read_csv('/datasets/megaline_internet.csv')\n",
    "messages_data = pd.read_csv('/datasets/megaline_messages.csv')\n",
    "plans_data = pd.read_csv('/datasets/megaline_plans.csv')\n",
    "users_data = pd.read_csv('/datasets/megaline_users.csv')"
   ]
  },
  {
   "cell_type": "markdown",
   "metadata": {},
   "source": [
    "## Explorando los datos"
   ]
  },
  {
   "cell_type": "markdown",
   "metadata": {},
   "source": [
    "### Planes"
   ]
  },
  {
   "cell_type": "code",
   "execution_count": 3,
   "metadata": {},
   "outputs": [
    {
     "data": {
      "text/plain": [
       "(2, 8)"
      ]
     },
     "execution_count": 3,
     "metadata": {},
     "output_type": "execute_result"
    }
   ],
   "source": [
    "plans_data.shape"
   ]
  },
  {
   "cell_type": "code",
   "execution_count": 4,
   "metadata": {},
   "outputs": [
    {
     "name": "stdout",
     "output_type": "stream",
     "text": [
      "<class 'pandas.core.frame.DataFrame'>\n",
      "RangeIndex: 2 entries, 0 to 1\n",
      "Data columns (total 8 columns):\n",
      " #   Column                 Non-Null Count  Dtype  \n",
      "---  ------                 --------------  -----  \n",
      " 0   messages_included      2 non-null      int64  \n",
      " 1   mb_per_month_included  2 non-null      int64  \n",
      " 2   minutes_included       2 non-null      int64  \n",
      " 3   usd_monthly_pay        2 non-null      int64  \n",
      " 4   usd_per_gb             2 non-null      int64  \n",
      " 5   usd_per_message        2 non-null      float64\n",
      " 6   usd_per_minute         2 non-null      float64\n",
      " 7   plan_name              2 non-null      object \n",
      "dtypes: float64(2), int64(5), object(1)\n",
      "memory usage: 256.0+ bytes\n"
     ]
    }
   ],
   "source": [
    "# Imprimiendo la información general/resumen sobre el DataFrame de los planes\n",
    "plans_data.info()"
   ]
  },
  {
   "cell_type": "code",
   "execution_count": 5,
   "metadata": {},
   "outputs": [
    {
     "data": {
      "text/html": [
       "<div>\n",
       "<style scoped>\n",
       "    .dataframe tbody tr th:only-of-type {\n",
       "        vertical-align: middle;\n",
       "    }\n",
       "\n",
       "    .dataframe tbody tr th {\n",
       "        vertical-align: top;\n",
       "    }\n",
       "\n",
       "    .dataframe thead th {\n",
       "        text-align: right;\n",
       "    }\n",
       "</style>\n",
       "<table border=\"1\" class=\"dataframe\">\n",
       "  <thead>\n",
       "    <tr style=\"text-align: right;\">\n",
       "      <th></th>\n",
       "      <th>messages_included</th>\n",
       "      <th>mb_per_month_included</th>\n",
       "      <th>minutes_included</th>\n",
       "      <th>usd_monthly_pay</th>\n",
       "      <th>usd_per_gb</th>\n",
       "      <th>usd_per_message</th>\n",
       "      <th>usd_per_minute</th>\n",
       "    </tr>\n",
       "  </thead>\n",
       "  <tbody>\n",
       "    <tr>\n",
       "      <th>count</th>\n",
       "      <td>2.000000</td>\n",
       "      <td>2.000000</td>\n",
       "      <td>2.000000</td>\n",
       "      <td>2.000000</td>\n",
       "      <td>2.00000</td>\n",
       "      <td>2.000000</td>\n",
       "      <td>2.000000</td>\n",
       "    </tr>\n",
       "    <tr>\n",
       "      <th>mean</th>\n",
       "      <td>525.000000</td>\n",
       "      <td>23040.000000</td>\n",
       "      <td>1750.000000</td>\n",
       "      <td>45.000000</td>\n",
       "      <td>8.50000</td>\n",
       "      <td>0.020000</td>\n",
       "      <td>0.020000</td>\n",
       "    </tr>\n",
       "    <tr>\n",
       "      <th>std</th>\n",
       "      <td>671.751442</td>\n",
       "      <td>10861.160159</td>\n",
       "      <td>1767.766953</td>\n",
       "      <td>35.355339</td>\n",
       "      <td>2.12132</td>\n",
       "      <td>0.014142</td>\n",
       "      <td>0.014142</td>\n",
       "    </tr>\n",
       "    <tr>\n",
       "      <th>min</th>\n",
       "      <td>50.000000</td>\n",
       "      <td>15360.000000</td>\n",
       "      <td>500.000000</td>\n",
       "      <td>20.000000</td>\n",
       "      <td>7.00000</td>\n",
       "      <td>0.010000</td>\n",
       "      <td>0.010000</td>\n",
       "    </tr>\n",
       "    <tr>\n",
       "      <th>25%</th>\n",
       "      <td>287.500000</td>\n",
       "      <td>19200.000000</td>\n",
       "      <td>1125.000000</td>\n",
       "      <td>32.500000</td>\n",
       "      <td>7.75000</td>\n",
       "      <td>0.015000</td>\n",
       "      <td>0.015000</td>\n",
       "    </tr>\n",
       "    <tr>\n",
       "      <th>50%</th>\n",
       "      <td>525.000000</td>\n",
       "      <td>23040.000000</td>\n",
       "      <td>1750.000000</td>\n",
       "      <td>45.000000</td>\n",
       "      <td>8.50000</td>\n",
       "      <td>0.020000</td>\n",
       "      <td>0.020000</td>\n",
       "    </tr>\n",
       "    <tr>\n",
       "      <th>75%</th>\n",
       "      <td>762.500000</td>\n",
       "      <td>26880.000000</td>\n",
       "      <td>2375.000000</td>\n",
       "      <td>57.500000</td>\n",
       "      <td>9.25000</td>\n",
       "      <td>0.025000</td>\n",
       "      <td>0.025000</td>\n",
       "    </tr>\n",
       "    <tr>\n",
       "      <th>max</th>\n",
       "      <td>1000.000000</td>\n",
       "      <td>30720.000000</td>\n",
       "      <td>3000.000000</td>\n",
       "      <td>70.000000</td>\n",
       "      <td>10.00000</td>\n",
       "      <td>0.030000</td>\n",
       "      <td>0.030000</td>\n",
       "    </tr>\n",
       "  </tbody>\n",
       "</table>\n",
       "</div>"
      ],
      "text/plain": [
       "       messages_included  mb_per_month_included  minutes_included  \\\n",
       "count           2.000000               2.000000          2.000000   \n",
       "mean          525.000000           23040.000000       1750.000000   \n",
       "std           671.751442           10861.160159       1767.766953   \n",
       "min            50.000000           15360.000000        500.000000   \n",
       "25%           287.500000           19200.000000       1125.000000   \n",
       "50%           525.000000           23040.000000       1750.000000   \n",
       "75%           762.500000           26880.000000       2375.000000   \n",
       "max          1000.000000           30720.000000       3000.000000   \n",
       "\n",
       "       usd_monthly_pay  usd_per_gb  usd_per_message  usd_per_minute  \n",
       "count         2.000000     2.00000         2.000000        2.000000  \n",
       "mean         45.000000     8.50000         0.020000        0.020000  \n",
       "std          35.355339     2.12132         0.014142        0.014142  \n",
       "min          20.000000     7.00000         0.010000        0.010000  \n",
       "25%          32.500000     7.75000         0.015000        0.015000  \n",
       "50%          45.000000     8.50000         0.020000        0.020000  \n",
       "75%          57.500000     9.25000         0.025000        0.025000  \n",
       "max          70.000000    10.00000         0.030000        0.030000  "
      ]
     },
     "execution_count": 5,
     "metadata": {},
     "output_type": "execute_result"
    }
   ],
   "source": [
    "plans_data.describe()"
   ]
  },
  {
   "cell_type": "code",
   "execution_count": 6,
   "metadata": {},
   "outputs": [
    {
     "data": {
      "text/html": [
       "<div>\n",
       "<style scoped>\n",
       "    .dataframe tbody tr th:only-of-type {\n",
       "        vertical-align: middle;\n",
       "    }\n",
       "\n",
       "    .dataframe tbody tr th {\n",
       "        vertical-align: top;\n",
       "    }\n",
       "\n",
       "    .dataframe thead th {\n",
       "        text-align: right;\n",
       "    }\n",
       "</style>\n",
       "<table border=\"1\" class=\"dataframe\">\n",
       "  <thead>\n",
       "    <tr style=\"text-align: right;\">\n",
       "      <th></th>\n",
       "      <th>plan_name</th>\n",
       "    </tr>\n",
       "  </thead>\n",
       "  <tbody>\n",
       "    <tr>\n",
       "      <th>count</th>\n",
       "      <td>2</td>\n",
       "    </tr>\n",
       "    <tr>\n",
       "      <th>unique</th>\n",
       "      <td>2</td>\n",
       "    </tr>\n",
       "    <tr>\n",
       "      <th>top</th>\n",
       "      <td>surf</td>\n",
       "    </tr>\n",
       "    <tr>\n",
       "      <th>freq</th>\n",
       "      <td>1</td>\n",
       "    </tr>\n",
       "  </tbody>\n",
       "</table>\n",
       "</div>"
      ],
      "text/plain": [
       "       plan_name\n",
       "count          2\n",
       "unique         2\n",
       "top         surf\n",
       "freq           1"
      ]
     },
     "execution_count": 6,
     "metadata": {},
     "output_type": "execute_result"
    }
   ],
   "source": [
    "plans_data.describe(exclude=['int', 'float'])"
   ]
  },
  {
   "cell_type": "code",
   "execution_count": 7,
   "metadata": {},
   "outputs": [
    {
     "data": {
      "text/html": [
       "<div>\n",
       "<style scoped>\n",
       "    .dataframe tbody tr th:only-of-type {\n",
       "        vertical-align: middle;\n",
       "    }\n",
       "\n",
       "    .dataframe tbody tr th {\n",
       "        vertical-align: top;\n",
       "    }\n",
       "\n",
       "    .dataframe thead th {\n",
       "        text-align: right;\n",
       "    }\n",
       "</style>\n",
       "<table border=\"1\" class=\"dataframe\">\n",
       "  <thead>\n",
       "    <tr style=\"text-align: right;\">\n",
       "      <th></th>\n",
       "      <th>messages_included</th>\n",
       "      <th>mb_per_month_included</th>\n",
       "      <th>minutes_included</th>\n",
       "      <th>usd_monthly_pay</th>\n",
       "      <th>usd_per_gb</th>\n",
       "      <th>usd_per_message</th>\n",
       "      <th>usd_per_minute</th>\n",
       "      <th>plan_name</th>\n",
       "    </tr>\n",
       "  </thead>\n",
       "  <tbody>\n",
       "    <tr>\n",
       "      <th>0</th>\n",
       "      <td>50</td>\n",
       "      <td>15360</td>\n",
       "      <td>500</td>\n",
       "      <td>20</td>\n",
       "      <td>10</td>\n",
       "      <td>0.03</td>\n",
       "      <td>0.03</td>\n",
       "      <td>surf</td>\n",
       "    </tr>\n",
       "    <tr>\n",
       "      <th>1</th>\n",
       "      <td>1000</td>\n",
       "      <td>30720</td>\n",
       "      <td>3000</td>\n",
       "      <td>70</td>\n",
       "      <td>7</td>\n",
       "      <td>0.01</td>\n",
       "      <td>0.01</td>\n",
       "      <td>ultimate</td>\n",
       "    </tr>\n",
       "  </tbody>\n",
       "</table>\n",
       "</div>"
      ],
      "text/plain": [
       "   messages_included  mb_per_month_included  minutes_included  \\\n",
       "0                 50                  15360               500   \n",
       "1               1000                  30720              3000   \n",
       "\n",
       "   usd_monthly_pay  usd_per_gb  usd_per_message  usd_per_minute plan_name  \n",
       "0               20          10             0.03            0.03      surf  \n",
       "1               70           7             0.01            0.01  ultimate  "
      ]
     },
     "execution_count": 7,
     "metadata": {},
     "output_type": "execute_result"
    }
   ],
   "source": [
    "# Imprime una muestra de los datos para los planes\n",
    "plans_data.head()"
   ]
  },
  {
   "cell_type": "markdown",
   "metadata": {},
   "source": [
    "El DataFrame **plans_data** tiene dos filas y nueve columnas, no aplica corregir el tipo de datos, no hay valores ausentes."
   ]
  },
  {
   "cell_type": "markdown",
   "metadata": {},
   "source": [
    "### Usuarios"
   ]
  },
  {
   "cell_type": "code",
   "execution_count": 8,
   "metadata": {},
   "outputs": [
    {
     "data": {
      "text/plain": [
       "(500, 8)"
      ]
     },
     "execution_count": 8,
     "metadata": {},
     "output_type": "execute_result"
    }
   ],
   "source": [
    "users_data.shape"
   ]
  },
  {
   "cell_type": "code",
   "execution_count": 9,
   "metadata": {},
   "outputs": [
    {
     "name": "stdout",
     "output_type": "stream",
     "text": [
      "<class 'pandas.core.frame.DataFrame'>\n",
      "RangeIndex: 500 entries, 0 to 499\n",
      "Data columns (total 8 columns):\n",
      " #   Column      Non-Null Count  Dtype \n",
      "---  ------      --------------  ----- \n",
      " 0   user_id     500 non-null    int64 \n",
      " 1   first_name  500 non-null    object\n",
      " 2   last_name   500 non-null    object\n",
      " 3   age         500 non-null    int64 \n",
      " 4   city        500 non-null    object\n",
      " 5   reg_date    500 non-null    object\n",
      " 6   plan        500 non-null    object\n",
      " 7   churn_date  34 non-null     object\n",
      "dtypes: int64(2), object(6)\n",
      "memory usage: 31.4+ KB\n"
     ]
    }
   ],
   "source": [
    "# Imprimiendo la información general/resumen sobre el DataFrame de los usuarios\n",
    "users_data.info()"
   ]
  },
  {
   "cell_type": "code",
   "execution_count": 10,
   "metadata": {},
   "outputs": [
    {
     "data": {
      "text/html": [
       "<div>\n",
       "<style scoped>\n",
       "    .dataframe tbody tr th:only-of-type {\n",
       "        vertical-align: middle;\n",
       "    }\n",
       "\n",
       "    .dataframe tbody tr th {\n",
       "        vertical-align: top;\n",
       "    }\n",
       "\n",
       "    .dataframe thead th {\n",
       "        text-align: right;\n",
       "    }\n",
       "</style>\n",
       "<table border=\"1\" class=\"dataframe\">\n",
       "  <thead>\n",
       "    <tr style=\"text-align: right;\">\n",
       "      <th></th>\n",
       "      <th>user_id</th>\n",
       "      <th>age</th>\n",
       "    </tr>\n",
       "  </thead>\n",
       "  <tbody>\n",
       "    <tr>\n",
       "      <th>count</th>\n",
       "      <td>500.000000</td>\n",
       "      <td>500.000000</td>\n",
       "    </tr>\n",
       "    <tr>\n",
       "      <th>mean</th>\n",
       "      <td>1249.500000</td>\n",
       "      <td>45.486000</td>\n",
       "    </tr>\n",
       "    <tr>\n",
       "      <th>std</th>\n",
       "      <td>144.481833</td>\n",
       "      <td>16.972269</td>\n",
       "    </tr>\n",
       "    <tr>\n",
       "      <th>min</th>\n",
       "      <td>1000.000000</td>\n",
       "      <td>18.000000</td>\n",
       "    </tr>\n",
       "    <tr>\n",
       "      <th>25%</th>\n",
       "      <td>1124.750000</td>\n",
       "      <td>30.000000</td>\n",
       "    </tr>\n",
       "    <tr>\n",
       "      <th>50%</th>\n",
       "      <td>1249.500000</td>\n",
       "      <td>46.000000</td>\n",
       "    </tr>\n",
       "    <tr>\n",
       "      <th>75%</th>\n",
       "      <td>1374.250000</td>\n",
       "      <td>61.000000</td>\n",
       "    </tr>\n",
       "    <tr>\n",
       "      <th>max</th>\n",
       "      <td>1499.000000</td>\n",
       "      <td>75.000000</td>\n",
       "    </tr>\n",
       "  </tbody>\n",
       "</table>\n",
       "</div>"
      ],
      "text/plain": [
       "           user_id         age\n",
       "count   500.000000  500.000000\n",
       "mean   1249.500000   45.486000\n",
       "std     144.481833   16.972269\n",
       "min    1000.000000   18.000000\n",
       "25%    1124.750000   30.000000\n",
       "50%    1249.500000   46.000000\n",
       "75%    1374.250000   61.000000\n",
       "max    1499.000000   75.000000"
      ]
     },
     "execution_count": 10,
     "metadata": {},
     "output_type": "execute_result"
    }
   ],
   "source": [
    "users_data.describe()"
   ]
  },
  {
   "cell_type": "code",
   "execution_count": 11,
   "metadata": {},
   "outputs": [
    {
     "data": {
      "text/html": [
       "<div>\n",
       "<style scoped>\n",
       "    .dataframe tbody tr th:only-of-type {\n",
       "        vertical-align: middle;\n",
       "    }\n",
       "\n",
       "    .dataframe tbody tr th {\n",
       "        vertical-align: top;\n",
       "    }\n",
       "\n",
       "    .dataframe thead th {\n",
       "        text-align: right;\n",
       "    }\n",
       "</style>\n",
       "<table border=\"1\" class=\"dataframe\">\n",
       "  <thead>\n",
       "    <tr style=\"text-align: right;\">\n",
       "      <th></th>\n",
       "      <th>first_name</th>\n",
       "      <th>last_name</th>\n",
       "      <th>city</th>\n",
       "      <th>reg_date</th>\n",
       "      <th>plan</th>\n",
       "      <th>churn_date</th>\n",
       "    </tr>\n",
       "  </thead>\n",
       "  <tbody>\n",
       "    <tr>\n",
       "      <th>count</th>\n",
       "      <td>500</td>\n",
       "      <td>500</td>\n",
       "      <td>500</td>\n",
       "      <td>500</td>\n",
       "      <td>500</td>\n",
       "      <td>34</td>\n",
       "    </tr>\n",
       "    <tr>\n",
       "      <th>unique</th>\n",
       "      <td>458</td>\n",
       "      <td>399</td>\n",
       "      <td>73</td>\n",
       "      <td>266</td>\n",
       "      <td>2</td>\n",
       "      <td>29</td>\n",
       "    </tr>\n",
       "    <tr>\n",
       "      <th>top</th>\n",
       "      <td>Jasper</td>\n",
       "      <td>Thompson</td>\n",
       "      <td>New York-Newark-Jersey City, NY-NJ-PA MSA</td>\n",
       "      <td>2018-08-03</td>\n",
       "      <td>surf</td>\n",
       "      <td>2018-12-18</td>\n",
       "    </tr>\n",
       "    <tr>\n",
       "      <th>freq</th>\n",
       "      <td>3</td>\n",
       "      <td>3</td>\n",
       "      <td>80</td>\n",
       "      <td>5</td>\n",
       "      <td>339</td>\n",
       "      <td>3</td>\n",
       "    </tr>\n",
       "  </tbody>\n",
       "</table>\n",
       "</div>"
      ],
      "text/plain": [
       "       first_name last_name                                       city  \\\n",
       "count         500       500                                        500   \n",
       "unique        458       399                                         73   \n",
       "top        Jasper  Thompson  New York-Newark-Jersey City, NY-NJ-PA MSA   \n",
       "freq            3         3                                         80   \n",
       "\n",
       "          reg_date  plan  churn_date  \n",
       "count          500   500          34  \n",
       "unique         266     2          29  \n",
       "top     2018-08-03  surf  2018-12-18  \n",
       "freq             5   339           3  "
      ]
     },
     "execution_count": 11,
     "metadata": {},
     "output_type": "execute_result"
    }
   ],
   "source": [
    "users_data.describe(exclude=['int', 'float'])"
   ]
  },
  {
   "cell_type": "code",
   "execution_count": 12,
   "metadata": {},
   "outputs": [
    {
     "data": {
      "text/html": [
       "<div>\n",
       "<style scoped>\n",
       "    .dataframe tbody tr th:only-of-type {\n",
       "        vertical-align: middle;\n",
       "    }\n",
       "\n",
       "    .dataframe tbody tr th {\n",
       "        vertical-align: top;\n",
       "    }\n",
       "\n",
       "    .dataframe thead th {\n",
       "        text-align: right;\n",
       "    }\n",
       "</style>\n",
       "<table border=\"1\" class=\"dataframe\">\n",
       "  <thead>\n",
       "    <tr style=\"text-align: right;\">\n",
       "      <th></th>\n",
       "      <th>user_id</th>\n",
       "      <th>first_name</th>\n",
       "      <th>last_name</th>\n",
       "      <th>age</th>\n",
       "      <th>city</th>\n",
       "      <th>reg_date</th>\n",
       "      <th>plan</th>\n",
       "      <th>churn_date</th>\n",
       "    </tr>\n",
       "  </thead>\n",
       "  <tbody>\n",
       "    <tr>\n",
       "      <th>0</th>\n",
       "      <td>1000</td>\n",
       "      <td>Anamaria</td>\n",
       "      <td>Bauer</td>\n",
       "      <td>45</td>\n",
       "      <td>Atlanta-Sandy Springs-Roswell, GA MSA</td>\n",
       "      <td>2018-12-24</td>\n",
       "      <td>ultimate</td>\n",
       "      <td>NaN</td>\n",
       "    </tr>\n",
       "    <tr>\n",
       "      <th>1</th>\n",
       "      <td>1001</td>\n",
       "      <td>Mickey</td>\n",
       "      <td>Wilkerson</td>\n",
       "      <td>28</td>\n",
       "      <td>Seattle-Tacoma-Bellevue, WA MSA</td>\n",
       "      <td>2018-08-13</td>\n",
       "      <td>surf</td>\n",
       "      <td>NaN</td>\n",
       "    </tr>\n",
       "    <tr>\n",
       "      <th>2</th>\n",
       "      <td>1002</td>\n",
       "      <td>Carlee</td>\n",
       "      <td>Hoffman</td>\n",
       "      <td>36</td>\n",
       "      <td>Las Vegas-Henderson-Paradise, NV MSA</td>\n",
       "      <td>2018-10-21</td>\n",
       "      <td>surf</td>\n",
       "      <td>NaN</td>\n",
       "    </tr>\n",
       "    <tr>\n",
       "      <th>3</th>\n",
       "      <td>1003</td>\n",
       "      <td>Reynaldo</td>\n",
       "      <td>Jenkins</td>\n",
       "      <td>52</td>\n",
       "      <td>Tulsa, OK MSA</td>\n",
       "      <td>2018-01-28</td>\n",
       "      <td>surf</td>\n",
       "      <td>NaN</td>\n",
       "    </tr>\n",
       "    <tr>\n",
       "      <th>4</th>\n",
       "      <td>1004</td>\n",
       "      <td>Leonila</td>\n",
       "      <td>Thompson</td>\n",
       "      <td>40</td>\n",
       "      <td>Seattle-Tacoma-Bellevue, WA MSA</td>\n",
       "      <td>2018-05-23</td>\n",
       "      <td>surf</td>\n",
       "      <td>NaN</td>\n",
       "    </tr>\n",
       "    <tr>\n",
       "      <th>5</th>\n",
       "      <td>1005</td>\n",
       "      <td>Livia</td>\n",
       "      <td>Shields</td>\n",
       "      <td>31</td>\n",
       "      <td>Dallas-Fort Worth-Arlington, TX MSA</td>\n",
       "      <td>2018-11-29</td>\n",
       "      <td>surf</td>\n",
       "      <td>NaN</td>\n",
       "    </tr>\n",
       "    <tr>\n",
       "      <th>6</th>\n",
       "      <td>1006</td>\n",
       "      <td>Jesusa</td>\n",
       "      <td>Bradford</td>\n",
       "      <td>73</td>\n",
       "      <td>San Francisco-Oakland-Berkeley, CA MSA</td>\n",
       "      <td>2018-11-27</td>\n",
       "      <td>ultimate</td>\n",
       "      <td>2018-12-18</td>\n",
       "    </tr>\n",
       "    <tr>\n",
       "      <th>7</th>\n",
       "      <td>1007</td>\n",
       "      <td>Eusebio</td>\n",
       "      <td>Welch</td>\n",
       "      <td>42</td>\n",
       "      <td>Grand Rapids-Kentwood, MI MSA</td>\n",
       "      <td>2018-07-11</td>\n",
       "      <td>surf</td>\n",
       "      <td>NaN</td>\n",
       "    </tr>\n",
       "    <tr>\n",
       "      <th>8</th>\n",
       "      <td>1008</td>\n",
       "      <td>Emely</td>\n",
       "      <td>Hoffman</td>\n",
       "      <td>53</td>\n",
       "      <td>Orlando-Kissimmee-Sanford, FL MSA</td>\n",
       "      <td>2018-08-03</td>\n",
       "      <td>ultimate</td>\n",
       "      <td>NaN</td>\n",
       "    </tr>\n",
       "    <tr>\n",
       "      <th>9</th>\n",
       "      <td>1009</td>\n",
       "      <td>Gerry</td>\n",
       "      <td>Little</td>\n",
       "      <td>19</td>\n",
       "      <td>San Jose-Sunnyvale-Santa Clara, CA MSA</td>\n",
       "      <td>2018-04-22</td>\n",
       "      <td>surf</td>\n",
       "      <td>NaN</td>\n",
       "    </tr>\n",
       "  </tbody>\n",
       "</table>\n",
       "</div>"
      ],
      "text/plain": [
       "   user_id first_name  last_name  age                                    city  \\\n",
       "0     1000   Anamaria      Bauer   45   Atlanta-Sandy Springs-Roswell, GA MSA   \n",
       "1     1001     Mickey  Wilkerson   28         Seattle-Tacoma-Bellevue, WA MSA   \n",
       "2     1002     Carlee    Hoffman   36    Las Vegas-Henderson-Paradise, NV MSA   \n",
       "3     1003   Reynaldo    Jenkins   52                           Tulsa, OK MSA   \n",
       "4     1004    Leonila   Thompson   40         Seattle-Tacoma-Bellevue, WA MSA   \n",
       "5     1005      Livia    Shields   31     Dallas-Fort Worth-Arlington, TX MSA   \n",
       "6     1006     Jesusa   Bradford   73  San Francisco-Oakland-Berkeley, CA MSA   \n",
       "7     1007    Eusebio      Welch   42           Grand Rapids-Kentwood, MI MSA   \n",
       "8     1008      Emely    Hoffman   53       Orlando-Kissimmee-Sanford, FL MSA   \n",
       "9     1009      Gerry     Little   19  San Jose-Sunnyvale-Santa Clara, CA MSA   \n",
       "\n",
       "     reg_date      plan  churn_date  \n",
       "0  2018-12-24  ultimate         NaN  \n",
       "1  2018-08-13      surf         NaN  \n",
       "2  2018-10-21      surf         NaN  \n",
       "3  2018-01-28      surf         NaN  \n",
       "4  2018-05-23      surf         NaN  \n",
       "5  2018-11-29      surf         NaN  \n",
       "6  2018-11-27  ultimate  2018-12-18  \n",
       "7  2018-07-11      surf         NaN  \n",
       "8  2018-08-03  ultimate         NaN  \n",
       "9  2018-04-22      surf         NaN  "
      ]
     },
     "execution_count": 12,
     "metadata": {},
     "output_type": "execute_result"
    }
   ],
   "source": [
    "# Imprimiendo una muestra de los datos para los usuarios\n",
    "users_data.head(10)"
   ]
  },
  {
   "cell_type": "code",
   "execution_count": 13,
   "metadata": {},
   "outputs": [
    {
     "data": {
      "text/plain": [
       "array([nan, '2018-12-18', '2018-11-16', '2018-09-07', '2018-12-30',\n",
       "       '2018-10-07', '2018-12-31', '2018-11-24', '2018-11-11',\n",
       "       '2018-12-12', '2018-11-14', '2018-12-27', '2018-11-29',\n",
       "       '2018-12-22', '2018-11-30', '2018-10-13', '2018-07-31',\n",
       "       '2018-12-15', '2018-12-19', '2018-10-03', '2018-10-22',\n",
       "       '2018-08-16', '2018-12-26', '2018-09-01', '2018-11-21',\n",
       "       '2018-08-19', '2018-12-10', '2018-09-17', '2018-11-18',\n",
       "       '2018-09-18'], dtype=object)"
      ]
     },
     "execution_count": 13,
     "metadata": {},
     "output_type": "execute_result"
    }
   ],
   "source": [
    "# Inspeccionando las fechas únicas en que el usuario dejó de usar el servicio\n",
    "users_data[\"churn_date\"].unique()"
   ]
  },
  {
   "cell_type": "code",
   "execution_count": 14,
   "metadata": {},
   "outputs": [
    {
     "data": {
      "text/plain": [
       "0.932"
      ]
     },
     "execution_count": 14,
     "metadata": {},
     "output_type": "execute_result"
    }
   ],
   "source": [
    "# Viendo el % de valores nulos en la columna churn_date\n",
    "(users_data[\"churn_date\"].isna().sum())/len(users_data)"
   ]
  },
  {
   "cell_type": "code",
   "execution_count": 15,
   "metadata": {},
   "outputs": [
    {
     "data": {
      "text/plain": [
       "2018-12-18    3\n",
       "2018-12-31    2\n",
       "2018-11-14    2\n",
       "2018-12-19    2\n",
       "2018-08-16    1\n",
       "2018-11-18    1\n",
       "2018-11-30    1\n",
       "2018-11-21    1\n",
       "2018-09-17    1\n",
       "2018-09-07    1\n",
       "2018-07-31    1\n",
       "2018-12-22    1\n",
       "2018-11-11    1\n",
       "2018-11-24    1\n",
       "2018-11-16    1\n",
       "2018-11-29    1\n",
       "2018-10-22    1\n",
       "2018-10-13    1\n",
       "2018-08-19    1\n",
       "2018-12-10    1\n",
       "2018-12-12    1\n",
       "2018-10-07    1\n",
       "2018-12-27    1\n",
       "2018-12-30    1\n",
       "2018-10-03    1\n",
       "2018-12-15    1\n",
       "2018-09-18    1\n",
       "2018-12-26    1\n",
       "2018-09-01    1\n",
       "Name: churn_date, dtype: int64"
      ]
     },
     "execution_count": 15,
     "metadata": {},
     "output_type": "execute_result"
    }
   ],
   "source": [
    "users_data[\"churn_date\"].value_counts().sort_values(ascending=False)"
   ]
  },
  {
   "cell_type": "markdown",
   "metadata": {},
   "source": [
    "El DataFrame **users_data** tiene 500 filas y ocho columnas, hay un 93% de valores ausentes en la columna \"*churn_date*\"; más adelante indicaremos que se hará con dichos valores. En la columna \"*reg_date*\" y \"*churn_date*\", se cambiará el tipo de datos de \"*object*\" a \"*datetime64[ns]*\"."
   ]
  },
  {
   "cell_type": "markdown",
   "metadata": {},
   "source": [
    "### Llamadas"
   ]
  },
  {
   "cell_type": "code",
   "execution_count": 16,
   "metadata": {},
   "outputs": [
    {
     "data": {
      "text/plain": [
       "(137735, 4)"
      ]
     },
     "execution_count": 16,
     "metadata": {},
     "output_type": "execute_result"
    }
   ],
   "source": [
    "calls_data.shape"
   ]
  },
  {
   "cell_type": "code",
   "execution_count": 17,
   "metadata": {},
   "outputs": [
    {
     "name": "stdout",
     "output_type": "stream",
     "text": [
      "<class 'pandas.core.frame.DataFrame'>\n",
      "RangeIndex: 137735 entries, 0 to 137734\n",
      "Data columns (total 4 columns):\n",
      " #   Column     Non-Null Count   Dtype  \n",
      "---  ------     --------------   -----  \n",
      " 0   id         137735 non-null  object \n",
      " 1   user_id    137735 non-null  int64  \n",
      " 2   call_date  137735 non-null  object \n",
      " 3   duration   137735 non-null  float64\n",
      "dtypes: float64(1), int64(1), object(2)\n",
      "memory usage: 4.2+ MB\n"
     ]
    }
   ],
   "source": [
    "# Imprimiendo la información/resumen general sobre el DataFrame de las llamadas\n",
    "calls_data.info()"
   ]
  },
  {
   "cell_type": "code",
   "execution_count": 18,
   "metadata": {},
   "outputs": [
    {
     "data": {
      "text/html": [
       "<div>\n",
       "<style scoped>\n",
       "    .dataframe tbody tr th:only-of-type {\n",
       "        vertical-align: middle;\n",
       "    }\n",
       "\n",
       "    .dataframe tbody tr th {\n",
       "        vertical-align: top;\n",
       "    }\n",
       "\n",
       "    .dataframe thead th {\n",
       "        text-align: right;\n",
       "    }\n",
       "</style>\n",
       "<table border=\"1\" class=\"dataframe\">\n",
       "  <thead>\n",
       "    <tr style=\"text-align: right;\">\n",
       "      <th></th>\n",
       "      <th>user_id</th>\n",
       "      <th>duration</th>\n",
       "    </tr>\n",
       "  </thead>\n",
       "  <tbody>\n",
       "    <tr>\n",
       "      <th>count</th>\n",
       "      <td>137735.000000</td>\n",
       "      <td>137735.000000</td>\n",
       "    </tr>\n",
       "    <tr>\n",
       "      <th>mean</th>\n",
       "      <td>1247.658046</td>\n",
       "      <td>6.745927</td>\n",
       "    </tr>\n",
       "    <tr>\n",
       "      <th>std</th>\n",
       "      <td>139.416268</td>\n",
       "      <td>5.839241</td>\n",
       "    </tr>\n",
       "    <tr>\n",
       "      <th>min</th>\n",
       "      <td>1000.000000</td>\n",
       "      <td>0.000000</td>\n",
       "    </tr>\n",
       "    <tr>\n",
       "      <th>25%</th>\n",
       "      <td>1128.000000</td>\n",
       "      <td>1.290000</td>\n",
       "    </tr>\n",
       "    <tr>\n",
       "      <th>50%</th>\n",
       "      <td>1247.000000</td>\n",
       "      <td>5.980000</td>\n",
       "    </tr>\n",
       "    <tr>\n",
       "      <th>75%</th>\n",
       "      <td>1365.000000</td>\n",
       "      <td>10.690000</td>\n",
       "    </tr>\n",
       "    <tr>\n",
       "      <th>max</th>\n",
       "      <td>1499.000000</td>\n",
       "      <td>37.600000</td>\n",
       "    </tr>\n",
       "  </tbody>\n",
       "</table>\n",
       "</div>"
      ],
      "text/plain": [
       "             user_id       duration\n",
       "count  137735.000000  137735.000000\n",
       "mean     1247.658046       6.745927\n",
       "std       139.416268       5.839241\n",
       "min      1000.000000       0.000000\n",
       "25%      1128.000000       1.290000\n",
       "50%      1247.000000       5.980000\n",
       "75%      1365.000000      10.690000\n",
       "max      1499.000000      37.600000"
      ]
     },
     "execution_count": 18,
     "metadata": {},
     "output_type": "execute_result"
    }
   ],
   "source": [
    "calls_data.describe()"
   ]
  },
  {
   "cell_type": "code",
   "execution_count": 19,
   "metadata": {},
   "outputs": [
    {
     "data": {
      "text/html": [
       "<div>\n",
       "<style scoped>\n",
       "    .dataframe tbody tr th:only-of-type {\n",
       "        vertical-align: middle;\n",
       "    }\n",
       "\n",
       "    .dataframe tbody tr th {\n",
       "        vertical-align: top;\n",
       "    }\n",
       "\n",
       "    .dataframe thead th {\n",
       "        text-align: right;\n",
       "    }\n",
       "</style>\n",
       "<table border=\"1\" class=\"dataframe\">\n",
       "  <thead>\n",
       "    <tr style=\"text-align: right;\">\n",
       "      <th></th>\n",
       "      <th>id</th>\n",
       "      <th>call_date</th>\n",
       "    </tr>\n",
       "  </thead>\n",
       "  <tbody>\n",
       "    <tr>\n",
       "      <th>count</th>\n",
       "      <td>137735</td>\n",
       "      <td>137735</td>\n",
       "    </tr>\n",
       "    <tr>\n",
       "      <th>unique</th>\n",
       "      <td>137735</td>\n",
       "      <td>351</td>\n",
       "    </tr>\n",
       "    <tr>\n",
       "      <th>top</th>\n",
       "      <td>1276_132</td>\n",
       "      <td>2018-12-27</td>\n",
       "    </tr>\n",
       "    <tr>\n",
       "      <th>freq</th>\n",
       "      <td>1</td>\n",
       "      <td>1091</td>\n",
       "    </tr>\n",
       "  </tbody>\n",
       "</table>\n",
       "</div>"
      ],
      "text/plain": [
       "              id   call_date\n",
       "count     137735      137735\n",
       "unique    137735         351\n",
       "top     1276_132  2018-12-27\n",
       "freq           1        1091"
      ]
     },
     "execution_count": 19,
     "metadata": {},
     "output_type": "execute_result"
    }
   ],
   "source": [
    "calls_data.describe(exclude=['int', 'float'])"
   ]
  },
  {
   "cell_type": "code",
   "execution_count": 20,
   "metadata": {},
   "outputs": [
    {
     "data": {
      "text/html": [
       "<div>\n",
       "<style scoped>\n",
       "    .dataframe tbody tr th:only-of-type {\n",
       "        vertical-align: middle;\n",
       "    }\n",
       "\n",
       "    .dataframe tbody tr th {\n",
       "        vertical-align: top;\n",
       "    }\n",
       "\n",
       "    .dataframe thead th {\n",
       "        text-align: right;\n",
       "    }\n",
       "</style>\n",
       "<table border=\"1\" class=\"dataframe\">\n",
       "  <thead>\n",
       "    <tr style=\"text-align: right;\">\n",
       "      <th></th>\n",
       "      <th>id</th>\n",
       "      <th>user_id</th>\n",
       "      <th>call_date</th>\n",
       "      <th>duration</th>\n",
       "    </tr>\n",
       "  </thead>\n",
       "  <tbody>\n",
       "    <tr>\n",
       "      <th>0</th>\n",
       "      <td>1000_93</td>\n",
       "      <td>1000</td>\n",
       "      <td>2018-12-27</td>\n",
       "      <td>8.52</td>\n",
       "    </tr>\n",
       "    <tr>\n",
       "      <th>1</th>\n",
       "      <td>1000_145</td>\n",
       "      <td>1000</td>\n",
       "      <td>2018-12-27</td>\n",
       "      <td>13.66</td>\n",
       "    </tr>\n",
       "    <tr>\n",
       "      <th>2</th>\n",
       "      <td>1000_247</td>\n",
       "      <td>1000</td>\n",
       "      <td>2018-12-27</td>\n",
       "      <td>14.48</td>\n",
       "    </tr>\n",
       "    <tr>\n",
       "      <th>3</th>\n",
       "      <td>1000_309</td>\n",
       "      <td>1000</td>\n",
       "      <td>2018-12-28</td>\n",
       "      <td>5.76</td>\n",
       "    </tr>\n",
       "    <tr>\n",
       "      <th>4</th>\n",
       "      <td>1000_380</td>\n",
       "      <td>1000</td>\n",
       "      <td>2018-12-30</td>\n",
       "      <td>4.22</td>\n",
       "    </tr>\n",
       "    <tr>\n",
       "      <th>5</th>\n",
       "      <td>1000_388</td>\n",
       "      <td>1000</td>\n",
       "      <td>2018-12-31</td>\n",
       "      <td>2.20</td>\n",
       "    </tr>\n",
       "    <tr>\n",
       "      <th>6</th>\n",
       "      <td>1000_510</td>\n",
       "      <td>1000</td>\n",
       "      <td>2018-12-27</td>\n",
       "      <td>5.75</td>\n",
       "    </tr>\n",
       "    <tr>\n",
       "      <th>7</th>\n",
       "      <td>1000_521</td>\n",
       "      <td>1000</td>\n",
       "      <td>2018-12-28</td>\n",
       "      <td>14.18</td>\n",
       "    </tr>\n",
       "    <tr>\n",
       "      <th>8</th>\n",
       "      <td>1000_530</td>\n",
       "      <td>1000</td>\n",
       "      <td>2018-12-28</td>\n",
       "      <td>5.77</td>\n",
       "    </tr>\n",
       "    <tr>\n",
       "      <th>9</th>\n",
       "      <td>1000_544</td>\n",
       "      <td>1000</td>\n",
       "      <td>2018-12-26</td>\n",
       "      <td>4.40</td>\n",
       "    </tr>\n",
       "  </tbody>\n",
       "</table>\n",
       "</div>"
      ],
      "text/plain": [
       "         id  user_id   call_date  duration\n",
       "0   1000_93     1000  2018-12-27      8.52\n",
       "1  1000_145     1000  2018-12-27     13.66\n",
       "2  1000_247     1000  2018-12-27     14.48\n",
       "3  1000_309     1000  2018-12-28      5.76\n",
       "4  1000_380     1000  2018-12-30      4.22\n",
       "5  1000_388     1000  2018-12-31      2.20\n",
       "6  1000_510     1000  2018-12-27      5.75\n",
       "7  1000_521     1000  2018-12-28     14.18\n",
       "8  1000_530     1000  2018-12-28      5.77\n",
       "9  1000_544     1000  2018-12-26      4.40"
      ]
     },
     "execution_count": 20,
     "metadata": {},
     "output_type": "execute_result"
    }
   ],
   "source": [
    "# Imprimiendo una muestra de datos para llamadas\n",
    "calls_data.head(10)"
   ]
  },
  {
   "cell_type": "markdown",
   "metadata": {},
   "source": [
    "El DataFrame **calls_data** tiene 137.735 filas y cinco columnas, no hay valores ausentes en el DataFrame. En la columna \"*call_date*\", se cambiará el tipo de datos de \"*object*\" a \"*datetime64[ns]*\"."
   ]
  },
  {
   "cell_type": "markdown",
   "metadata": {},
   "source": [
    "### Mensajes"
   ]
  },
  {
   "cell_type": "code",
   "execution_count": 21,
   "metadata": {},
   "outputs": [
    {
     "data": {
      "text/plain": [
       "(76051, 3)"
      ]
     },
     "execution_count": 21,
     "metadata": {},
     "output_type": "execute_result"
    }
   ],
   "source": [
    "messages_data.shape"
   ]
  },
  {
   "cell_type": "code",
   "execution_count": 22,
   "metadata": {},
   "outputs": [
    {
     "name": "stdout",
     "output_type": "stream",
     "text": [
      "<class 'pandas.core.frame.DataFrame'>\n",
      "RangeIndex: 76051 entries, 0 to 76050\n",
      "Data columns (total 3 columns):\n",
      " #   Column        Non-Null Count  Dtype \n",
      "---  ------        --------------  ----- \n",
      " 0   id            76051 non-null  object\n",
      " 1   user_id       76051 non-null  int64 \n",
      " 2   message_date  76051 non-null  object\n",
      "dtypes: int64(1), object(2)\n",
      "memory usage: 1.7+ MB\n"
     ]
    }
   ],
   "source": [
    "# Imprimiendo la información/resumen general sobre el DataFrame de los mensajes\n",
    "messages_data.info()"
   ]
  },
  {
   "cell_type": "code",
   "execution_count": 23,
   "metadata": {},
   "outputs": [
    {
     "data": {
      "text/html": [
       "<div>\n",
       "<style scoped>\n",
       "    .dataframe tbody tr th:only-of-type {\n",
       "        vertical-align: middle;\n",
       "    }\n",
       "\n",
       "    .dataframe tbody tr th {\n",
       "        vertical-align: top;\n",
       "    }\n",
       "\n",
       "    .dataframe thead th {\n",
       "        text-align: right;\n",
       "    }\n",
       "</style>\n",
       "<table border=\"1\" class=\"dataframe\">\n",
       "  <thead>\n",
       "    <tr style=\"text-align: right;\">\n",
       "      <th></th>\n",
       "      <th>user_id</th>\n",
       "    </tr>\n",
       "  </thead>\n",
       "  <tbody>\n",
       "    <tr>\n",
       "      <th>count</th>\n",
       "      <td>76051.000000</td>\n",
       "    </tr>\n",
       "    <tr>\n",
       "      <th>mean</th>\n",
       "      <td>1245.972768</td>\n",
       "    </tr>\n",
       "    <tr>\n",
       "      <th>std</th>\n",
       "      <td>139.843635</td>\n",
       "    </tr>\n",
       "    <tr>\n",
       "      <th>min</th>\n",
       "      <td>1000.000000</td>\n",
       "    </tr>\n",
       "    <tr>\n",
       "      <th>25%</th>\n",
       "      <td>1123.000000</td>\n",
       "    </tr>\n",
       "    <tr>\n",
       "      <th>50%</th>\n",
       "      <td>1251.000000</td>\n",
       "    </tr>\n",
       "    <tr>\n",
       "      <th>75%</th>\n",
       "      <td>1362.000000</td>\n",
       "    </tr>\n",
       "    <tr>\n",
       "      <th>max</th>\n",
       "      <td>1497.000000</td>\n",
       "    </tr>\n",
       "  </tbody>\n",
       "</table>\n",
       "</div>"
      ],
      "text/plain": [
       "            user_id\n",
       "count  76051.000000\n",
       "mean    1245.972768\n",
       "std      139.843635\n",
       "min     1000.000000\n",
       "25%     1123.000000\n",
       "50%     1251.000000\n",
       "75%     1362.000000\n",
       "max     1497.000000"
      ]
     },
     "execution_count": 23,
     "metadata": {},
     "output_type": "execute_result"
    }
   ],
   "source": [
    "messages_data.describe()"
   ]
  },
  {
   "cell_type": "code",
   "execution_count": 24,
   "metadata": {},
   "outputs": [
    {
     "data": {
      "text/html": [
       "<div>\n",
       "<style scoped>\n",
       "    .dataframe tbody tr th:only-of-type {\n",
       "        vertical-align: middle;\n",
       "    }\n",
       "\n",
       "    .dataframe tbody tr th {\n",
       "        vertical-align: top;\n",
       "    }\n",
       "\n",
       "    .dataframe thead th {\n",
       "        text-align: right;\n",
       "    }\n",
       "</style>\n",
       "<table border=\"1\" class=\"dataframe\">\n",
       "  <thead>\n",
       "    <tr style=\"text-align: right;\">\n",
       "      <th></th>\n",
       "      <th>id</th>\n",
       "      <th>message_date</th>\n",
       "    </tr>\n",
       "  </thead>\n",
       "  <tbody>\n",
       "    <tr>\n",
       "      <th>count</th>\n",
       "      <td>76051</td>\n",
       "      <td>76051</td>\n",
       "    </tr>\n",
       "    <tr>\n",
       "      <th>unique</th>\n",
       "      <td>76051</td>\n",
       "      <td>351</td>\n",
       "    </tr>\n",
       "    <tr>\n",
       "      <th>top</th>\n",
       "      <td>1294_111</td>\n",
       "      <td>2018-12-28</td>\n",
       "    </tr>\n",
       "    <tr>\n",
       "      <th>freq</th>\n",
       "      <td>1</td>\n",
       "      <td>702</td>\n",
       "    </tr>\n",
       "  </tbody>\n",
       "</table>\n",
       "</div>"
      ],
      "text/plain": [
       "              id message_date\n",
       "count      76051        76051\n",
       "unique     76051          351\n",
       "top     1294_111   2018-12-28\n",
       "freq           1          702"
      ]
     },
     "execution_count": 24,
     "metadata": {},
     "output_type": "execute_result"
    }
   ],
   "source": [
    "messages_data.describe(exclude=['int', 'float'])"
   ]
  },
  {
   "cell_type": "code",
   "execution_count": 25,
   "metadata": {},
   "outputs": [
    {
     "data": {
      "text/html": [
       "<div>\n",
       "<style scoped>\n",
       "    .dataframe tbody tr th:only-of-type {\n",
       "        vertical-align: middle;\n",
       "    }\n",
       "\n",
       "    .dataframe tbody tr th {\n",
       "        vertical-align: top;\n",
       "    }\n",
       "\n",
       "    .dataframe thead th {\n",
       "        text-align: right;\n",
       "    }\n",
       "</style>\n",
       "<table border=\"1\" class=\"dataframe\">\n",
       "  <thead>\n",
       "    <tr style=\"text-align: right;\">\n",
       "      <th></th>\n",
       "      <th>id</th>\n",
       "      <th>user_id</th>\n",
       "      <th>message_date</th>\n",
       "    </tr>\n",
       "  </thead>\n",
       "  <tbody>\n",
       "    <tr>\n",
       "      <th>0</th>\n",
       "      <td>1000_125</td>\n",
       "      <td>1000</td>\n",
       "      <td>2018-12-27</td>\n",
       "    </tr>\n",
       "    <tr>\n",
       "      <th>1</th>\n",
       "      <td>1000_160</td>\n",
       "      <td>1000</td>\n",
       "      <td>2018-12-31</td>\n",
       "    </tr>\n",
       "    <tr>\n",
       "      <th>2</th>\n",
       "      <td>1000_223</td>\n",
       "      <td>1000</td>\n",
       "      <td>2018-12-31</td>\n",
       "    </tr>\n",
       "    <tr>\n",
       "      <th>3</th>\n",
       "      <td>1000_251</td>\n",
       "      <td>1000</td>\n",
       "      <td>2018-12-27</td>\n",
       "    </tr>\n",
       "    <tr>\n",
       "      <th>4</th>\n",
       "      <td>1000_255</td>\n",
       "      <td>1000</td>\n",
       "      <td>2018-12-26</td>\n",
       "    </tr>\n",
       "    <tr>\n",
       "      <th>5</th>\n",
       "      <td>1000_346</td>\n",
       "      <td>1000</td>\n",
       "      <td>2018-12-29</td>\n",
       "    </tr>\n",
       "    <tr>\n",
       "      <th>6</th>\n",
       "      <td>1000_386</td>\n",
       "      <td>1000</td>\n",
       "      <td>2018-12-30</td>\n",
       "    </tr>\n",
       "    <tr>\n",
       "      <th>7</th>\n",
       "      <td>1000_413</td>\n",
       "      <td>1000</td>\n",
       "      <td>2018-12-31</td>\n",
       "    </tr>\n",
       "    <tr>\n",
       "      <th>8</th>\n",
       "      <td>1000_502</td>\n",
       "      <td>1000</td>\n",
       "      <td>2018-12-27</td>\n",
       "    </tr>\n",
       "    <tr>\n",
       "      <th>9</th>\n",
       "      <td>1000_525</td>\n",
       "      <td>1000</td>\n",
       "      <td>2018-12-28</td>\n",
       "    </tr>\n",
       "  </tbody>\n",
       "</table>\n",
       "</div>"
      ],
      "text/plain": [
       "         id  user_id message_date\n",
       "0  1000_125     1000   2018-12-27\n",
       "1  1000_160     1000   2018-12-31\n",
       "2  1000_223     1000   2018-12-31\n",
       "3  1000_251     1000   2018-12-27\n",
       "4  1000_255     1000   2018-12-26\n",
       "5  1000_346     1000   2018-12-29\n",
       "6  1000_386     1000   2018-12-30\n",
       "7  1000_413     1000   2018-12-31\n",
       "8  1000_502     1000   2018-12-27\n",
       "9  1000_525     1000   2018-12-28"
      ]
     },
     "execution_count": 25,
     "metadata": {},
     "output_type": "execute_result"
    }
   ],
   "source": [
    "# Imprimiendo una muestra de datos para los mensajes\n",
    "messages_data.head(10)"
   ]
  },
  {
   "cell_type": "markdown",
   "metadata": {},
   "source": [
    "El DataFrame **messages_data** tiene 76.051 filas y cuatro columnas, no hay valores ausentes en el DataFrame. En la columna \"*message_date*\", se cambiará el tipo de datos de \"*object*\" a \"*datetime64[ns]*\". "
   ]
  },
  {
   "cell_type": "markdown",
   "metadata": {},
   "source": [
    "### Internet"
   ]
  },
  {
   "cell_type": "code",
   "execution_count": 26,
   "metadata": {},
   "outputs": [
    {
     "data": {
      "text/plain": [
       "(104825, 4)"
      ]
     },
     "execution_count": 26,
     "metadata": {},
     "output_type": "execute_result"
    }
   ],
   "source": [
    "internet_data.shape"
   ]
  },
  {
   "cell_type": "code",
   "execution_count": 27,
   "metadata": {},
   "outputs": [
    {
     "name": "stdout",
     "output_type": "stream",
     "text": [
      "<class 'pandas.core.frame.DataFrame'>\n",
      "RangeIndex: 104825 entries, 0 to 104824\n",
      "Data columns (total 4 columns):\n",
      " #   Column        Non-Null Count   Dtype  \n",
      "---  ------        --------------   -----  \n",
      " 0   id            104825 non-null  object \n",
      " 1   user_id       104825 non-null  int64  \n",
      " 2   session_date  104825 non-null  object \n",
      " 3   mb_used       104825 non-null  float64\n",
      "dtypes: float64(1), int64(1), object(2)\n",
      "memory usage: 3.2+ MB\n"
     ]
    }
   ],
   "source": [
    "# Imprimiendo la información/resumen general sobre el DataFrame de los mensajes\n",
    "internet_data.info()"
   ]
  },
  {
   "cell_type": "code",
   "execution_count": 28,
   "metadata": {},
   "outputs": [
    {
     "data": {
      "text/html": [
       "<div>\n",
       "<style scoped>\n",
       "    .dataframe tbody tr th:only-of-type {\n",
       "        vertical-align: middle;\n",
       "    }\n",
       "\n",
       "    .dataframe tbody tr th {\n",
       "        vertical-align: top;\n",
       "    }\n",
       "\n",
       "    .dataframe thead th {\n",
       "        text-align: right;\n",
       "    }\n",
       "</style>\n",
       "<table border=\"1\" class=\"dataframe\">\n",
       "  <thead>\n",
       "    <tr style=\"text-align: right;\">\n",
       "      <th></th>\n",
       "      <th>user_id</th>\n",
       "      <th>mb_used</th>\n",
       "    </tr>\n",
       "  </thead>\n",
       "  <tbody>\n",
       "    <tr>\n",
       "      <th>count</th>\n",
       "      <td>104825.000000</td>\n",
       "      <td>104825.000000</td>\n",
       "    </tr>\n",
       "    <tr>\n",
       "      <th>mean</th>\n",
       "      <td>1242.496361</td>\n",
       "      <td>366.713701</td>\n",
       "    </tr>\n",
       "    <tr>\n",
       "      <th>std</th>\n",
       "      <td>142.053913</td>\n",
       "      <td>277.170542</td>\n",
       "    </tr>\n",
       "    <tr>\n",
       "      <th>min</th>\n",
       "      <td>1000.000000</td>\n",
       "      <td>0.000000</td>\n",
       "    </tr>\n",
       "    <tr>\n",
       "      <th>25%</th>\n",
       "      <td>1122.000000</td>\n",
       "      <td>136.080000</td>\n",
       "    </tr>\n",
       "    <tr>\n",
       "      <th>50%</th>\n",
       "      <td>1236.000000</td>\n",
       "      <td>343.980000</td>\n",
       "    </tr>\n",
       "    <tr>\n",
       "      <th>75%</th>\n",
       "      <td>1367.000000</td>\n",
       "      <td>554.610000</td>\n",
       "    </tr>\n",
       "    <tr>\n",
       "      <th>max</th>\n",
       "      <td>1499.000000</td>\n",
       "      <td>1693.470000</td>\n",
       "    </tr>\n",
       "  </tbody>\n",
       "</table>\n",
       "</div>"
      ],
      "text/plain": [
       "             user_id        mb_used\n",
       "count  104825.000000  104825.000000\n",
       "mean     1242.496361     366.713701\n",
       "std       142.053913     277.170542\n",
       "min      1000.000000       0.000000\n",
       "25%      1122.000000     136.080000\n",
       "50%      1236.000000     343.980000\n",
       "75%      1367.000000     554.610000\n",
       "max      1499.000000    1693.470000"
      ]
     },
     "execution_count": 28,
     "metadata": {},
     "output_type": "execute_result"
    }
   ],
   "source": [
    "internet_data.describe()"
   ]
  },
  {
   "cell_type": "code",
   "execution_count": 29,
   "metadata": {},
   "outputs": [
    {
     "data": {
      "text/html": [
       "<div>\n",
       "<style scoped>\n",
       "    .dataframe tbody tr th:only-of-type {\n",
       "        vertical-align: middle;\n",
       "    }\n",
       "\n",
       "    .dataframe tbody tr th {\n",
       "        vertical-align: top;\n",
       "    }\n",
       "\n",
       "    .dataframe thead th {\n",
       "        text-align: right;\n",
       "    }\n",
       "</style>\n",
       "<table border=\"1\" class=\"dataframe\">\n",
       "  <thead>\n",
       "    <tr style=\"text-align: right;\">\n",
       "      <th></th>\n",
       "      <th>id</th>\n",
       "      <th>session_date</th>\n",
       "    </tr>\n",
       "  </thead>\n",
       "  <tbody>\n",
       "    <tr>\n",
       "      <th>count</th>\n",
       "      <td>104825</td>\n",
       "      <td>104825</td>\n",
       "    </tr>\n",
       "    <tr>\n",
       "      <th>unique</th>\n",
       "      <td>104825</td>\n",
       "      <td>351</td>\n",
       "    </tr>\n",
       "    <tr>\n",
       "      <th>top</th>\n",
       "      <td>1276_132</td>\n",
       "      <td>2018-12-24</td>\n",
       "    </tr>\n",
       "    <tr>\n",
       "      <th>freq</th>\n",
       "      <td>1</td>\n",
       "      <td>851</td>\n",
       "    </tr>\n",
       "  </tbody>\n",
       "</table>\n",
       "</div>"
      ],
      "text/plain": [
       "              id session_date\n",
       "count     104825       104825\n",
       "unique    104825          351\n",
       "top     1276_132   2018-12-24\n",
       "freq           1          851"
      ]
     },
     "execution_count": 29,
     "metadata": {},
     "output_type": "execute_result"
    }
   ],
   "source": [
    "internet_data.describe(exclude=['int', 'float'])"
   ]
  },
  {
   "cell_type": "code",
   "execution_count": 30,
   "metadata": {},
   "outputs": [
    {
     "data": {
      "text/html": [
       "<div>\n",
       "<style scoped>\n",
       "    .dataframe tbody tr th:only-of-type {\n",
       "        vertical-align: middle;\n",
       "    }\n",
       "\n",
       "    .dataframe tbody tr th {\n",
       "        vertical-align: top;\n",
       "    }\n",
       "\n",
       "    .dataframe thead th {\n",
       "        text-align: right;\n",
       "    }\n",
       "</style>\n",
       "<table border=\"1\" class=\"dataframe\">\n",
       "  <thead>\n",
       "    <tr style=\"text-align: right;\">\n",
       "      <th></th>\n",
       "      <th>id</th>\n",
       "      <th>user_id</th>\n",
       "      <th>session_date</th>\n",
       "      <th>mb_used</th>\n",
       "    </tr>\n",
       "  </thead>\n",
       "  <tbody>\n",
       "    <tr>\n",
       "      <th>0</th>\n",
       "      <td>1000_13</td>\n",
       "      <td>1000</td>\n",
       "      <td>2018-12-29</td>\n",
       "      <td>89.86</td>\n",
       "    </tr>\n",
       "    <tr>\n",
       "      <th>1</th>\n",
       "      <td>1000_204</td>\n",
       "      <td>1000</td>\n",
       "      <td>2018-12-31</td>\n",
       "      <td>0.00</td>\n",
       "    </tr>\n",
       "    <tr>\n",
       "      <th>2</th>\n",
       "      <td>1000_379</td>\n",
       "      <td>1000</td>\n",
       "      <td>2018-12-28</td>\n",
       "      <td>660.40</td>\n",
       "    </tr>\n",
       "    <tr>\n",
       "      <th>3</th>\n",
       "      <td>1000_413</td>\n",
       "      <td>1000</td>\n",
       "      <td>2018-12-26</td>\n",
       "      <td>270.99</td>\n",
       "    </tr>\n",
       "    <tr>\n",
       "      <th>4</th>\n",
       "      <td>1000_442</td>\n",
       "      <td>1000</td>\n",
       "      <td>2018-12-27</td>\n",
       "      <td>880.22</td>\n",
       "    </tr>\n",
       "  </tbody>\n",
       "</table>\n",
       "</div>"
      ],
      "text/plain": [
       "         id  user_id session_date  mb_used\n",
       "0   1000_13     1000   2018-12-29    89.86\n",
       "1  1000_204     1000   2018-12-31     0.00\n",
       "2  1000_379     1000   2018-12-28   660.40\n",
       "3  1000_413     1000   2018-12-26   270.99\n",
       "4  1000_442     1000   2018-12-27   880.22"
      ]
     },
     "execution_count": 30,
     "metadata": {},
     "output_type": "execute_result"
    }
   ],
   "source": [
    "# Imprimiendo una muestra de datos para el tráfico de internet\n",
    "internet_data.head()"
   ]
  },
  {
   "cell_type": "markdown",
   "metadata": {},
   "source": [
    " El DataFrame **internet_data** tiene 104.825 filas y seis columnas, no hay valores ausentes en el DataFrame. En la columna \"*session_date*\", se cambiará el tipo de datos de \"*object*\" a \"*datetime64[ns]*\". "
   ]
  },
  {
   "cell_type": "markdown",
   "metadata": {},
   "source": [
    "## Corregiendo los datos"
   ]
  },
  {
   "cell_type": "markdown",
   "metadata": {},
   "source": [
    "**Mejorando los tipos de datos**\n",
    "\n",
    "Cambiando el **Dtype** de las columnas: *call_date*, *session_date*, *message_date*, *reg_date* y *churn_date* a **datetime64**"
   ]
  },
  {
   "cell_type": "code",
   "execution_count": 31,
   "metadata": {},
   "outputs": [],
   "source": [
    "datasets = {\n",
    "    \"calls\": calls_data,\n",
    "    \"internet\": internet_data,\n",
    "    \"messages\": messages_data,\n",
    "    \"users\": users_data,\n",
    "}"
   ]
  },
  {
   "cell_type": "code",
   "execution_count": 32,
   "metadata": {},
   "outputs": [],
   "source": [
    "date_cols = {\n",
    "    \"calls\": [\"call_date\"],\n",
    "    \"internet\": [\"session_date\"],\n",
    "    \"messages\": [\"message_date\"],\n",
    "    \"users\": [\"reg_date\", \"churn_date\"],\n",
    "}\n",
    "\n",
    "for df_name, col_names in date_cols.items():\n",
    "  for col in col_names:\n",
    "    datasets[df_name][col] = pd.to_datetime(datasets[df_name][col])"
   ]
  },
  {
   "cell_type": "code",
   "execution_count": 33,
   "metadata": {},
   "outputs": [
    {
     "name": "stdout",
     "output_type": "stream",
     "text": [
      "Dataset: calls\n",
      "id                   object\n",
      "user_id               int64\n",
      "call_date    datetime64[ns]\n",
      "duration            float64\n",
      "dtype: object\n",
      "\n",
      "Dataset: internet\n",
      "id                      object\n",
      "user_id                  int64\n",
      "session_date    datetime64[ns]\n",
      "mb_used                float64\n",
      "dtype: object\n",
      "\n",
      "Dataset: messages\n",
      "id                      object\n",
      "user_id                  int64\n",
      "message_date    datetime64[ns]\n",
      "dtype: object\n",
      "\n",
      "Dataset: users\n",
      "user_id                int64\n",
      "first_name            object\n",
      "last_name             object\n",
      "age                    int64\n",
      "city                  object\n",
      "reg_date      datetime64[ns]\n",
      "plan                  object\n",
      "churn_date    datetime64[ns]\n",
      "dtype: object\n",
      "\n"
     ]
    }
   ],
   "source": [
    "for df_name, df in datasets.items():\n",
    "  print(f\"Dataset: {df_name}\")\n",
    "  print(df.dtypes)\n",
    "  print()"
   ]
  },
  {
   "cell_type": "markdown",
   "metadata": {},
   "source": [
    "## Enriqueciendo los datos"
   ]
  },
  {
   "cell_type": "markdown",
   "metadata": {},
   "source": [
    "### Llamadas"
   ]
  },
  {
   "cell_type": "code",
   "execution_count": 34,
   "metadata": {},
   "outputs": [
    {
     "data": {
      "text/html": [
       "<div>\n",
       "<style scoped>\n",
       "    .dataframe tbody tr th:only-of-type {\n",
       "        vertical-align: middle;\n",
       "    }\n",
       "\n",
       "    .dataframe tbody tr th {\n",
       "        vertical-align: top;\n",
       "    }\n",
       "\n",
       "    .dataframe thead th {\n",
       "        text-align: right;\n",
       "    }\n",
       "</style>\n",
       "<table border=\"1\" class=\"dataframe\">\n",
       "  <thead>\n",
       "    <tr style=\"text-align: right;\">\n",
       "      <th></th>\n",
       "      <th>id</th>\n",
       "      <th>user_id</th>\n",
       "      <th>call_date</th>\n",
       "      <th>duration</th>\n",
       "    </tr>\n",
       "  </thead>\n",
       "  <tbody>\n",
       "    <tr>\n",
       "      <th>0</th>\n",
       "      <td>1000_93</td>\n",
       "      <td>1000</td>\n",
       "      <td>2018-12-27</td>\n",
       "      <td>8.52</td>\n",
       "    </tr>\n",
       "    <tr>\n",
       "      <th>1</th>\n",
       "      <td>1000_145</td>\n",
       "      <td>1000</td>\n",
       "      <td>2018-12-27</td>\n",
       "      <td>13.66</td>\n",
       "    </tr>\n",
       "    <tr>\n",
       "      <th>2</th>\n",
       "      <td>1000_247</td>\n",
       "      <td>1000</td>\n",
       "      <td>2018-12-27</td>\n",
       "      <td>14.48</td>\n",
       "    </tr>\n",
       "    <tr>\n",
       "      <th>3</th>\n",
       "      <td>1000_309</td>\n",
       "      <td>1000</td>\n",
       "      <td>2018-12-28</td>\n",
       "      <td>5.76</td>\n",
       "    </tr>\n",
       "    <tr>\n",
       "      <th>4</th>\n",
       "      <td>1000_380</td>\n",
       "      <td>1000</td>\n",
       "      <td>2018-12-30</td>\n",
       "      <td>4.22</td>\n",
       "    </tr>\n",
       "  </tbody>\n",
       "</table>\n",
       "</div>"
      ],
      "text/plain": [
       "         id  user_id  call_date  duration\n",
       "0   1000_93     1000 2018-12-27      8.52\n",
       "1  1000_145     1000 2018-12-27     13.66\n",
       "2  1000_247     1000 2018-12-27     14.48\n",
       "3  1000_309     1000 2018-12-28      5.76\n",
       "4  1000_380     1000 2018-12-30      4.22"
      ]
     },
     "execution_count": 34,
     "metadata": {},
     "output_type": "execute_result"
    }
   ],
   "source": [
    "# calls\n",
    "calls_data.head()"
   ]
  },
  {
   "cell_type": "markdown",
   "metadata": {},
   "source": [
    "Agregamos la columna \"*month*\" extrayendo el valor de la columa \"*call_date*\" y redondeamos los minutos de la duración de la llamada."
   ]
  },
  {
   "cell_type": "code",
   "execution_count": 35,
   "metadata": {},
   "outputs": [
    {
     "data": {
      "text/html": [
       "<div>\n",
       "<style scoped>\n",
       "    .dataframe tbody tr th:only-of-type {\n",
       "        vertical-align: middle;\n",
       "    }\n",
       "\n",
       "    .dataframe tbody tr th {\n",
       "        vertical-align: top;\n",
       "    }\n",
       "\n",
       "    .dataframe thead th {\n",
       "        text-align: right;\n",
       "    }\n",
       "</style>\n",
       "<table border=\"1\" class=\"dataframe\">\n",
       "  <thead>\n",
       "    <tr style=\"text-align: right;\">\n",
       "      <th></th>\n",
       "      <th>user_id</th>\n",
       "      <th>month</th>\n",
       "      <th>monthly_minutes</th>\n",
       "      <th>number_of_calls</th>\n",
       "    </tr>\n",
       "  </thead>\n",
       "  <tbody>\n",
       "    <tr>\n",
       "      <th>0</th>\n",
       "      <td>1000</td>\n",
       "      <td>12</td>\n",
       "      <td>124.0</td>\n",
       "      <td>16</td>\n",
       "    </tr>\n",
       "    <tr>\n",
       "      <th>1</th>\n",
       "      <td>1001</td>\n",
       "      <td>8</td>\n",
       "      <td>182.0</td>\n",
       "      <td>27</td>\n",
       "    </tr>\n",
       "    <tr>\n",
       "      <th>2</th>\n",
       "      <td>1001</td>\n",
       "      <td>9</td>\n",
       "      <td>315.0</td>\n",
       "      <td>49</td>\n",
       "    </tr>\n",
       "    <tr>\n",
       "      <th>3</th>\n",
       "      <td>1001</td>\n",
       "      <td>10</td>\n",
       "      <td>393.0</td>\n",
       "      <td>65</td>\n",
       "    </tr>\n",
       "    <tr>\n",
       "      <th>4</th>\n",
       "      <td>1001</td>\n",
       "      <td>11</td>\n",
       "      <td>426.0</td>\n",
       "      <td>64</td>\n",
       "    </tr>\n",
       "  </tbody>\n",
       "</table>\n",
       "</div>"
      ],
      "text/plain": [
       "   user_id  month  monthly_minutes  number_of_calls\n",
       "0     1000     12            124.0               16\n",
       "1     1001      8            182.0               27\n",
       "2     1001      9            315.0               49\n",
       "3     1001     10            393.0               65\n",
       "4     1001     11            426.0               64"
      ]
     },
     "execution_count": 35,
     "metadata": {},
     "output_type": "execute_result"
    }
   ],
   "source": [
    "# minutos y número de llamadas al mes por usuario\n",
    "calls_data[\"month\"] = calls_data[\"call_date\"].dt.month\n",
    "calls_data[\"duration\"] = np.ceil(calls_data[\"duration\"])\n",
    "\n",
    "calls_by_month = (\n",
    "    calls_data\n",
    "    .groupby([\"user_id\", \"month\"])[\"duration\"]\n",
    "    .agg([\"sum\", \"count\"])\n",
    "    .rename(columns={\"sum\": \"monthly_minutes\", \"count\": \"number_of_calls\"})\n",
    "    .reset_index()\n",
    ")\n",
    "\n",
    "calls_by_month.head()"
   ]
  },
  {
   "cell_type": "code",
   "execution_count": 36,
   "metadata": {},
   "outputs": [
    {
     "data": {
      "text/plain": [
       "True"
      ]
     },
     "execution_count": 36,
     "metadata": {},
     "output_type": "execute_result"
    }
   ],
   "source": [
    "#Verificando user_id únicos \n",
    "len(users_data) == len(users_data[\"user_id\"].unique())"
   ]
  },
  {
   "cell_type": "markdown",
   "metadata": {},
   "source": [
    "### Internet"
   ]
  },
  {
   "cell_type": "code",
   "execution_count": 37,
   "metadata": {},
   "outputs": [
    {
     "data": {
      "text/html": [
       "<div>\n",
       "<style scoped>\n",
       "    .dataframe tbody tr th:only-of-type {\n",
       "        vertical-align: middle;\n",
       "    }\n",
       "\n",
       "    .dataframe tbody tr th {\n",
       "        vertical-align: top;\n",
       "    }\n",
       "\n",
       "    .dataframe thead th {\n",
       "        text-align: right;\n",
       "    }\n",
       "</style>\n",
       "<table border=\"1\" class=\"dataframe\">\n",
       "  <thead>\n",
       "    <tr style=\"text-align: right;\">\n",
       "      <th></th>\n",
       "      <th>id</th>\n",
       "      <th>user_id</th>\n",
       "      <th>session_date</th>\n",
       "      <th>mb_used</th>\n",
       "    </tr>\n",
       "  </thead>\n",
       "  <tbody>\n",
       "    <tr>\n",
       "      <th>0</th>\n",
       "      <td>1000_13</td>\n",
       "      <td>1000</td>\n",
       "      <td>2018-12-29</td>\n",
       "      <td>89.86</td>\n",
       "    </tr>\n",
       "    <tr>\n",
       "      <th>1</th>\n",
       "      <td>1000_204</td>\n",
       "      <td>1000</td>\n",
       "      <td>2018-12-31</td>\n",
       "      <td>0.00</td>\n",
       "    </tr>\n",
       "    <tr>\n",
       "      <th>2</th>\n",
       "      <td>1000_379</td>\n",
       "      <td>1000</td>\n",
       "      <td>2018-12-28</td>\n",
       "      <td>660.40</td>\n",
       "    </tr>\n",
       "    <tr>\n",
       "      <th>3</th>\n",
       "      <td>1000_413</td>\n",
       "      <td>1000</td>\n",
       "      <td>2018-12-26</td>\n",
       "      <td>270.99</td>\n",
       "    </tr>\n",
       "    <tr>\n",
       "      <th>4</th>\n",
       "      <td>1000_442</td>\n",
       "      <td>1000</td>\n",
       "      <td>2018-12-27</td>\n",
       "      <td>880.22</td>\n",
       "    </tr>\n",
       "  </tbody>\n",
       "</table>\n",
       "</div>"
      ],
      "text/plain": [
       "         id  user_id session_date  mb_used\n",
       "0   1000_13     1000   2018-12-29    89.86\n",
       "1  1000_204     1000   2018-12-31     0.00\n",
       "2  1000_379     1000   2018-12-28   660.40\n",
       "3  1000_413     1000   2018-12-26   270.99\n",
       "4  1000_442     1000   2018-12-27   880.22"
      ]
     },
     "execution_count": 37,
     "metadata": {},
     "output_type": "execute_result"
    }
   ],
   "source": [
    "#internet\n",
    "internet_data.head()"
   ]
  },
  {
   "cell_type": "markdown",
   "metadata": {},
   "source": [
    "Agregamos la columna \"*month*\" extrayendo el valor de la columa \"*session_date*\", realizamos la conversión de mg a GB en la columna \"*mb_used*\" y redondeamos los GB por mes."
   ]
  },
  {
   "cell_type": "code",
   "execution_count": 38,
   "metadata": {},
   "outputs": [
    {
     "data": {
      "text/html": [
       "<div>\n",
       "<style scoped>\n",
       "    .dataframe tbody tr th:only-of-type {\n",
       "        vertical-align: middle;\n",
       "    }\n",
       "\n",
       "    .dataframe tbody tr th {\n",
       "        vertical-align: top;\n",
       "    }\n",
       "\n",
       "    .dataframe thead th {\n",
       "        text-align: right;\n",
       "    }\n",
       "</style>\n",
       "<table border=\"1\" class=\"dataframe\">\n",
       "  <thead>\n",
       "    <tr style=\"text-align: right;\">\n",
       "      <th></th>\n",
       "      <th>user_id</th>\n",
       "      <th>month</th>\n",
       "      <th>GB_used</th>\n",
       "      <th>monthly_GB</th>\n",
       "    </tr>\n",
       "  </thead>\n",
       "  <tbody>\n",
       "    <tr>\n",
       "      <th>0</th>\n",
       "      <td>1000</td>\n",
       "      <td>12</td>\n",
       "      <td>1.856904</td>\n",
       "      <td>2.0</td>\n",
       "    </tr>\n",
       "    <tr>\n",
       "      <th>1</th>\n",
       "      <td>1001</td>\n",
       "      <td>8</td>\n",
       "      <td>6.756982</td>\n",
       "      <td>7.0</td>\n",
       "    </tr>\n",
       "    <tr>\n",
       "      <th>2</th>\n",
       "      <td>1001</td>\n",
       "      <td>9</td>\n",
       "      <td>13.002754</td>\n",
       "      <td>14.0</td>\n",
       "    </tr>\n",
       "    <tr>\n",
       "      <th>3</th>\n",
       "      <td>1001</td>\n",
       "      <td>10</td>\n",
       "      <td>21.807119</td>\n",
       "      <td>22.0</td>\n",
       "    </tr>\n",
       "    <tr>\n",
       "      <th>4</th>\n",
       "      <td>1001</td>\n",
       "      <td>11</td>\n",
       "      <td>18.070605</td>\n",
       "      <td>19.0</td>\n",
       "    </tr>\n",
       "  </tbody>\n",
       "</table>\n",
       "</div>"
      ],
      "text/plain": [
       "   user_id  month    GB_used  monthly_GB\n",
       "0     1000     12   1.856904         2.0\n",
       "1     1001      8   6.756982         7.0\n",
       "2     1001      9  13.002754        14.0\n",
       "3     1001     10  21.807119        22.0\n",
       "4     1001     11  18.070605        19.0"
      ]
     },
     "execution_count": 38,
     "metadata": {},
     "output_type": "execute_result"
    }
   ],
   "source": [
    "# GB al mes por usuario\n",
    "internet_data[\"month\"] = internet_data[\"session_date\"].dt.month\n",
    "\n",
    "# Conversión de mb a GB\n",
    "internet_data[\"GB_used\"] = internet_data[\"mb_used\"] / 1024\n",
    "\n",
    "internet_by_month = (\n",
    "    internet_data\n",
    "    .groupby([\"user_id\", \"month\"])[\"GB_used\"]\n",
    "    .agg(\"sum\")\n",
    "    .reset_index()\n",
    ")\n",
    "\n",
    "# Redondeando los GB por mes\n",
    "def monthly_GB(GB_used):\n",
    "    if GB_used > 1:\n",
    "        return round(GB_used)\n",
    "    else:\n",
    "        return GB_used\n",
    "\n",
    "internet_by_month[\"monthly_GB\"] = np.ceil(internet_by_month[\"GB_used\"])\n",
    "\n",
    "internet_by_month.head()"
   ]
  },
  {
   "cell_type": "code",
   "execution_count": 39,
   "metadata": {},
   "outputs": [
    {
     "data": {
      "text/plain": [
       "True"
      ]
     },
     "execution_count": 39,
     "metadata": {},
     "output_type": "execute_result"
    }
   ],
   "source": [
    "#Verificando user_id únicos \n",
    "len(users_data) == len(users_data[\"user_id\"].unique())"
   ]
  },
  {
   "cell_type": "markdown",
   "metadata": {},
   "source": [
    "### Mensajes"
   ]
  },
  {
   "cell_type": "code",
   "execution_count": 40,
   "metadata": {},
   "outputs": [
    {
     "data": {
      "text/html": [
       "<div>\n",
       "<style scoped>\n",
       "    .dataframe tbody tr th:only-of-type {\n",
       "        vertical-align: middle;\n",
       "    }\n",
       "\n",
       "    .dataframe tbody tr th {\n",
       "        vertical-align: top;\n",
       "    }\n",
       "\n",
       "    .dataframe thead th {\n",
       "        text-align: right;\n",
       "    }\n",
       "</style>\n",
       "<table border=\"1\" class=\"dataframe\">\n",
       "  <thead>\n",
       "    <tr style=\"text-align: right;\">\n",
       "      <th></th>\n",
       "      <th>id</th>\n",
       "      <th>user_id</th>\n",
       "      <th>message_date</th>\n",
       "    </tr>\n",
       "  </thead>\n",
       "  <tbody>\n",
       "    <tr>\n",
       "      <th>0</th>\n",
       "      <td>1000_125</td>\n",
       "      <td>1000</td>\n",
       "      <td>2018-12-27</td>\n",
       "    </tr>\n",
       "    <tr>\n",
       "      <th>1</th>\n",
       "      <td>1000_160</td>\n",
       "      <td>1000</td>\n",
       "      <td>2018-12-31</td>\n",
       "    </tr>\n",
       "    <tr>\n",
       "      <th>2</th>\n",
       "      <td>1000_223</td>\n",
       "      <td>1000</td>\n",
       "      <td>2018-12-31</td>\n",
       "    </tr>\n",
       "    <tr>\n",
       "      <th>3</th>\n",
       "      <td>1000_251</td>\n",
       "      <td>1000</td>\n",
       "      <td>2018-12-27</td>\n",
       "    </tr>\n",
       "    <tr>\n",
       "      <th>4</th>\n",
       "      <td>1000_255</td>\n",
       "      <td>1000</td>\n",
       "      <td>2018-12-26</td>\n",
       "    </tr>\n",
       "  </tbody>\n",
       "</table>\n",
       "</div>"
      ],
      "text/plain": [
       "         id  user_id message_date\n",
       "0  1000_125     1000   2018-12-27\n",
       "1  1000_160     1000   2018-12-31\n",
       "2  1000_223     1000   2018-12-31\n",
       "3  1000_251     1000   2018-12-27\n",
       "4  1000_255     1000   2018-12-26"
      ]
     },
     "execution_count": 40,
     "metadata": {},
     "output_type": "execute_result"
    }
   ],
   "source": [
    "#mensajes\n",
    "messages_data.head()"
   ]
  },
  {
   "cell_type": "markdown",
   "metadata": {},
   "source": [
    "Agregamos la columna \"*month*\" extrayendo el valor de la columa \"*message_date*\"."
   ]
  },
  {
   "cell_type": "code",
   "execution_count": 41,
   "metadata": {},
   "outputs": [
    {
     "data": {
      "text/html": [
       "<div>\n",
       "<style scoped>\n",
       "    .dataframe tbody tr th:only-of-type {\n",
       "        vertical-align: middle;\n",
       "    }\n",
       "\n",
       "    .dataframe tbody tr th {\n",
       "        vertical-align: top;\n",
       "    }\n",
       "\n",
       "    .dataframe thead th {\n",
       "        text-align: right;\n",
       "    }\n",
       "</style>\n",
       "<table border=\"1\" class=\"dataframe\">\n",
       "  <thead>\n",
       "    <tr style=\"text-align: right;\">\n",
       "      <th></th>\n",
       "      <th>user_id</th>\n",
       "      <th>month</th>\n",
       "      <th>monthly_messages</th>\n",
       "    </tr>\n",
       "  </thead>\n",
       "  <tbody>\n",
       "    <tr>\n",
       "      <th>0</th>\n",
       "      <td>1000</td>\n",
       "      <td>12</td>\n",
       "      <td>11</td>\n",
       "    </tr>\n",
       "    <tr>\n",
       "      <th>1</th>\n",
       "      <td>1001</td>\n",
       "      <td>8</td>\n",
       "      <td>30</td>\n",
       "    </tr>\n",
       "    <tr>\n",
       "      <th>2</th>\n",
       "      <td>1001</td>\n",
       "      <td>9</td>\n",
       "      <td>44</td>\n",
       "    </tr>\n",
       "    <tr>\n",
       "      <th>3</th>\n",
       "      <td>1001</td>\n",
       "      <td>10</td>\n",
       "      <td>53</td>\n",
       "    </tr>\n",
       "    <tr>\n",
       "      <th>4</th>\n",
       "      <td>1001</td>\n",
       "      <td>11</td>\n",
       "      <td>36</td>\n",
       "    </tr>\n",
       "  </tbody>\n",
       "</table>\n",
       "</div>"
      ],
      "text/plain": [
       "   user_id  month  monthly_messages\n",
       "0     1000     12                11\n",
       "1     1001      8                30\n",
       "2     1001      9                44\n",
       "3     1001     10                53\n",
       "4     1001     11                36"
      ]
     },
     "execution_count": 41,
     "metadata": {},
     "output_type": "execute_result"
    }
   ],
   "source": [
    "# msj al mes por usuario\n",
    "messages_data[\"month\"] = messages_data[\"message_date\"].dt.month\n",
    "\n",
    "messages_by_month = (\n",
    "    messages_data\n",
    "    .groupby([\"user_id\", \"month\"])[\"id\"]\n",
    "    .agg(\"count\")\n",
    "    .reset_index()\n",
    "    .rename(columns={\"id\": \"monthly_messages\"})\n",
    ")\n",
    "\n",
    "messages_by_month.head()"
   ]
  },
  {
   "cell_type": "code",
   "execution_count": 42,
   "metadata": {},
   "outputs": [
    {
     "data": {
      "text/plain": [
       "True"
      ]
     },
     "execution_count": 42,
     "metadata": {},
     "output_type": "execute_result"
    }
   ],
   "source": [
    "#Verificando user_id únicos \n",
    "len(users_data) == len(users_data[\"user_id\"].unique())"
   ]
  },
  {
   "cell_type": "markdown",
   "metadata": {},
   "source": [
    "## Estudiando las condiciones del plan"
   ]
  },
  {
   "cell_type": "code",
   "execution_count": 43,
   "metadata": {},
   "outputs": [
    {
     "data": {
      "text/html": [
       "<div>\n",
       "<style scoped>\n",
       "    .dataframe tbody tr th:only-of-type {\n",
       "        vertical-align: middle;\n",
       "    }\n",
       "\n",
       "    .dataframe tbody tr th {\n",
       "        vertical-align: top;\n",
       "    }\n",
       "\n",
       "    .dataframe thead th {\n",
       "        text-align: right;\n",
       "    }\n",
       "</style>\n",
       "<table border=\"1\" class=\"dataframe\">\n",
       "  <thead>\n",
       "    <tr style=\"text-align: right;\">\n",
       "      <th></th>\n",
       "      <th>messages_included</th>\n",
       "      <th>mb_per_month_included</th>\n",
       "      <th>minutes_included</th>\n",
       "      <th>usd_monthly_pay</th>\n",
       "      <th>usd_per_gb</th>\n",
       "      <th>usd_per_message</th>\n",
       "      <th>usd_per_minute</th>\n",
       "      <th>plan_name</th>\n",
       "    </tr>\n",
       "  </thead>\n",
       "  <tbody>\n",
       "    <tr>\n",
       "      <th>0</th>\n",
       "      <td>50</td>\n",
       "      <td>15360</td>\n",
       "      <td>500</td>\n",
       "      <td>20</td>\n",
       "      <td>10</td>\n",
       "      <td>0.03</td>\n",
       "      <td>0.03</td>\n",
       "      <td>surf</td>\n",
       "    </tr>\n",
       "    <tr>\n",
       "      <th>1</th>\n",
       "      <td>1000</td>\n",
       "      <td>30720</td>\n",
       "      <td>3000</td>\n",
       "      <td>70</td>\n",
       "      <td>7</td>\n",
       "      <td>0.01</td>\n",
       "      <td>0.01</td>\n",
       "      <td>ultimate</td>\n",
       "    </tr>\n",
       "  </tbody>\n",
       "</table>\n",
       "</div>"
      ],
      "text/plain": [
       "   messages_included  mb_per_month_included  minutes_included  \\\n",
       "0                 50                  15360               500   \n",
       "1               1000                  30720              3000   \n",
       "\n",
       "   usd_monthly_pay  usd_per_gb  usd_per_message  usd_per_minute plan_name  \n",
       "0               20          10             0.03            0.03      surf  \n",
       "1               70           7             0.01            0.01  ultimate  "
      ]
     },
     "execution_count": 43,
     "metadata": {},
     "output_type": "execute_result"
    }
   ],
   "source": [
    "# Imprimiendo las condiciones del plan\n",
    "plans_data.head()"
   ]
  },
  {
   "cell_type": "code",
   "execution_count": 44,
   "metadata": {},
   "outputs": [],
   "source": [
    "# Conversión de mb a GB\n",
    "plans_data[\"GB_per_month_included\"] = plans_data[\"mb_per_month_included\"] / 1024"
   ]
  },
  {
   "cell_type": "code",
   "execution_count": 45,
   "metadata": {},
   "outputs": [
    {
     "data": {
      "text/plain": [
       "0    15.0\n",
       "1    30.0\n",
       "Name: GB_per_month_included, dtype: float64"
      ]
     },
     "execution_count": 45,
     "metadata": {},
     "output_type": "execute_result"
    }
   ],
   "source": [
    "plans_data[\"GB_per_month_included\"]"
   ]
  },
  {
   "cell_type": "markdown",
   "metadata": {},
   "source": [
    "## Agregando datos por usuario"
   ]
  },
  {
   "cell_type": "markdown",
   "metadata": {},
   "source": [
    "Acciones realizadas:\n",
    "    \n",
    "- Combinación de DataFrame´s para crear \"*monthly_income_by_user*\",\n",
    "- Relleno de valores ausentes \"*monthly_income_by_user*\",\n",
    "- Calculo de minutos, GB y mensajes extras por mes,\n",
    "- Calculo de ingresos por minutos, GB y mensajes extras por mes,\n",
    "- Calculo de ingreso mensual por usuario."
   ]
  },
  {
   "cell_type": "code",
   "execution_count": 46,
   "metadata": {},
   "outputs": [],
   "source": [
    "#Combinando los DataFrames \n",
    "monthly_income_by_user = (\n",
    " calls_by_month\n",
    " .merge(messages_by_month, on=[\"user_id\", \"month\"], how=\"outer\")\n",
    " .merge(internet_by_month, on=[\"user_id\", \"month\"], how=\"outer\")\n",
    " .merge(users_data[[\"user_id\", \"plan\", \"city\"]], on=\"user_id\", how=\"inner\")\n",
    " .rename(columns={\"plan\": \"plan_name\"})\n",
    " .merge(plans_data, on=\"plan_name\")\n",
    ")\n",
    "\n",
    "#Rellenando los valores ausentes con valor cero\n",
    "monthly_income_by_user.fillna(0, inplace=True)\n",
    "\n",
    "#Calculando minutos extras\n",
    "monthly_income_by_user[\"extra_minutes\"] = monthly_income_by_user[\"monthly_minutes\"] - monthly_income_by_user[\"minutes_included\"]\n",
    "monthly_income_by_user.loc[monthly_income_by_user[\"extra_minutes\"] < 0, \"extra_minutes\"] = 0\n",
    "\n",
    "#Calculando GB extras\n",
    "monthly_income_by_user[\"extra_GB\"] = monthly_income_by_user[\"monthly_GB\"] - monthly_income_by_user[\"GB_per_month_included\"]\n",
    "monthly_income_by_user.loc[monthly_income_by_user[\"extra_GB\"] < 0, \"extra_GB\"] = 0\n",
    "\n",
    "#Calculando mensajes extras\n",
    "monthly_income_by_user[\"extra_messages\"] = monthly_income_by_user[\"monthly_messages\"] - monthly_income_by_user[\"messages_included\"]\n",
    "monthly_income_by_user.loc[monthly_income_by_user[\"extra_messages\"] < 0, \"extra_messages\"] = 0\n",
    "\n",
    "#Calculando ingresos por minutos extras\n",
    "monthly_income_by_user[\"extra_minutes_income\"] = monthly_income_by_user[\"extra_minutes\"] * monthly_income_by_user[\"usd_per_minute\"]\n",
    "\n",
    "#Calculando ingresos por GB extras\n",
    "monthly_income_by_user[\"extra_GB_income\"] = monthly_income_by_user[\"extra_GB\"] * monthly_income_by_user[\"usd_per_gb\"]\n",
    "\n",
    "#Calculando ingresos por mensajes extras\n",
    "monthly_income_by_user[\"extra_messages_income\"] = monthly_income_by_user[\"extra_messages\"] * monthly_income_by_user[\"usd_per_message\"]\n",
    "\n",
    "#Calculando ingresos por usuario al mes\n",
    "monthly_income_by_user[\"monthly_income\"] = \\\n",
    "  monthly_income_by_user[\"usd_monthly_pay\"] + \\\n",
    "  monthly_income_by_user[\"extra_minutes_income\"] + \\\n",
    "  monthly_income_by_user[\"extra_GB_income\"] + \\\n",
    "  monthly_income_by_user[\"extra_messages_income\"]"
   ]
  },
  {
   "cell_type": "code",
   "execution_count": 47,
   "metadata": {},
   "outputs": [
    {
     "data": {
      "text/html": [
       "<div>\n",
       "<style scoped>\n",
       "    .dataframe tbody tr th:only-of-type {\n",
       "        vertical-align: middle;\n",
       "    }\n",
       "\n",
       "    .dataframe tbody tr th {\n",
       "        vertical-align: top;\n",
       "    }\n",
       "\n",
       "    .dataframe thead th {\n",
       "        text-align: right;\n",
       "    }\n",
       "</style>\n",
       "<table border=\"1\" class=\"dataframe\">\n",
       "  <thead>\n",
       "    <tr style=\"text-align: right;\">\n",
       "      <th></th>\n",
       "      <th>user_id</th>\n",
       "      <th>month</th>\n",
       "      <th>monthly_minutes</th>\n",
       "      <th>number_of_calls</th>\n",
       "      <th>monthly_messages</th>\n",
       "      <th>GB_used</th>\n",
       "      <th>monthly_GB</th>\n",
       "      <th>plan_name</th>\n",
       "      <th>city</th>\n",
       "      <th>messages_included</th>\n",
       "      <th>...</th>\n",
       "      <th>usd_per_message</th>\n",
       "      <th>usd_per_minute</th>\n",
       "      <th>GB_per_month_included</th>\n",
       "      <th>extra_minutes</th>\n",
       "      <th>extra_GB</th>\n",
       "      <th>extra_messages</th>\n",
       "      <th>extra_minutes_income</th>\n",
       "      <th>extra_GB_income</th>\n",
       "      <th>extra_messages_income</th>\n",
       "      <th>monthly_income</th>\n",
       "    </tr>\n",
       "  </thead>\n",
       "  <tbody>\n",
       "    <tr>\n",
       "      <th>0</th>\n",
       "      <td>1000</td>\n",
       "      <td>12</td>\n",
       "      <td>124.0</td>\n",
       "      <td>16.0</td>\n",
       "      <td>11.0</td>\n",
       "      <td>1.856904</td>\n",
       "      <td>2.0</td>\n",
       "      <td>ultimate</td>\n",
       "      <td>Atlanta-Sandy Springs-Roswell, GA MSA</td>\n",
       "      <td>1000</td>\n",
       "      <td>...</td>\n",
       "      <td>0.01</td>\n",
       "      <td>0.01</td>\n",
       "      <td>30.0</td>\n",
       "      <td>0.0</td>\n",
       "      <td>0.0</td>\n",
       "      <td>0.0</td>\n",
       "      <td>0.0</td>\n",
       "      <td>0.0</td>\n",
       "      <td>0.00</td>\n",
       "      <td>70.00</td>\n",
       "    </tr>\n",
       "    <tr>\n",
       "      <th>723</th>\n",
       "      <td>1001</td>\n",
       "      <td>11</td>\n",
       "      <td>426.0</td>\n",
       "      <td>64.0</td>\n",
       "      <td>36.0</td>\n",
       "      <td>18.070605</td>\n",
       "      <td>19.0</td>\n",
       "      <td>surf</td>\n",
       "      <td>Seattle-Tacoma-Bellevue, WA MSA</td>\n",
       "      <td>50</td>\n",
       "      <td>...</td>\n",
       "      <td>0.03</td>\n",
       "      <td>0.03</td>\n",
       "      <td>15.0</td>\n",
       "      <td>0.0</td>\n",
       "      <td>4.0</td>\n",
       "      <td>0.0</td>\n",
       "      <td>0.0</td>\n",
       "      <td>40.0</td>\n",
       "      <td>0.00</td>\n",
       "      <td>60.00</td>\n",
       "    </tr>\n",
       "    <tr>\n",
       "      <th>724</th>\n",
       "      <td>1001</td>\n",
       "      <td>12</td>\n",
       "      <td>412.0</td>\n",
       "      <td>56.0</td>\n",
       "      <td>44.0</td>\n",
       "      <td>18.915215</td>\n",
       "      <td>19.0</td>\n",
       "      <td>surf</td>\n",
       "      <td>Seattle-Tacoma-Bellevue, WA MSA</td>\n",
       "      <td>50</td>\n",
       "      <td>...</td>\n",
       "      <td>0.03</td>\n",
       "      <td>0.03</td>\n",
       "      <td>15.0</td>\n",
       "      <td>0.0</td>\n",
       "      <td>4.0</td>\n",
       "      <td>0.0</td>\n",
       "      <td>0.0</td>\n",
       "      <td>40.0</td>\n",
       "      <td>0.00</td>\n",
       "      <td>60.00</td>\n",
       "    </tr>\n",
       "    <tr>\n",
       "      <th>722</th>\n",
       "      <td>1001</td>\n",
       "      <td>10</td>\n",
       "      <td>393.0</td>\n",
       "      <td>65.0</td>\n",
       "      <td>53.0</td>\n",
       "      <td>21.807119</td>\n",
       "      <td>22.0</td>\n",
       "      <td>surf</td>\n",
       "      <td>Seattle-Tacoma-Bellevue, WA MSA</td>\n",
       "      <td>50</td>\n",
       "      <td>...</td>\n",
       "      <td>0.03</td>\n",
       "      <td>0.03</td>\n",
       "      <td>15.0</td>\n",
       "      <td>0.0</td>\n",
       "      <td>7.0</td>\n",
       "      <td>3.0</td>\n",
       "      <td>0.0</td>\n",
       "      <td>70.0</td>\n",
       "      <td>0.09</td>\n",
       "      <td>90.09</td>\n",
       "    </tr>\n",
       "    <tr>\n",
       "      <th>720</th>\n",
       "      <td>1001</td>\n",
       "      <td>8</td>\n",
       "      <td>182.0</td>\n",
       "      <td>27.0</td>\n",
       "      <td>30.0</td>\n",
       "      <td>6.756982</td>\n",
       "      <td>7.0</td>\n",
       "      <td>surf</td>\n",
       "      <td>Seattle-Tacoma-Bellevue, WA MSA</td>\n",
       "      <td>50</td>\n",
       "      <td>...</td>\n",
       "      <td>0.03</td>\n",
       "      <td>0.03</td>\n",
       "      <td>15.0</td>\n",
       "      <td>0.0</td>\n",
       "      <td>0.0</td>\n",
       "      <td>0.0</td>\n",
       "      <td>0.0</td>\n",
       "      <td>0.0</td>\n",
       "      <td>0.00</td>\n",
       "      <td>20.00</td>\n",
       "    </tr>\n",
       "  </tbody>\n",
       "</table>\n",
       "<p>5 rows × 24 columns</p>\n",
       "</div>"
      ],
      "text/plain": [
       "     user_id  month  monthly_minutes  number_of_calls  monthly_messages  \\\n",
       "0       1000     12            124.0             16.0              11.0   \n",
       "723     1001     11            426.0             64.0              36.0   \n",
       "724     1001     12            412.0             56.0              44.0   \n",
       "722     1001     10            393.0             65.0              53.0   \n",
       "720     1001      8            182.0             27.0              30.0   \n",
       "\n",
       "       GB_used  monthly_GB plan_name                                   city  \\\n",
       "0     1.856904         2.0  ultimate  Atlanta-Sandy Springs-Roswell, GA MSA   \n",
       "723  18.070605        19.0      surf        Seattle-Tacoma-Bellevue, WA MSA   \n",
       "724  18.915215        19.0      surf        Seattle-Tacoma-Bellevue, WA MSA   \n",
       "722  21.807119        22.0      surf        Seattle-Tacoma-Bellevue, WA MSA   \n",
       "720   6.756982         7.0      surf        Seattle-Tacoma-Bellevue, WA MSA   \n",
       "\n",
       "     messages_included  ...  usd_per_message  usd_per_minute  \\\n",
       "0                 1000  ...             0.01            0.01   \n",
       "723                 50  ...             0.03            0.03   \n",
       "724                 50  ...             0.03            0.03   \n",
       "722                 50  ...             0.03            0.03   \n",
       "720                 50  ...             0.03            0.03   \n",
       "\n",
       "     GB_per_month_included  extra_minutes  extra_GB  extra_messages  \\\n",
       "0                     30.0            0.0       0.0             0.0   \n",
       "723                   15.0            0.0       4.0             0.0   \n",
       "724                   15.0            0.0       4.0             0.0   \n",
       "722                   15.0            0.0       7.0             3.0   \n",
       "720                   15.0            0.0       0.0             0.0   \n",
       "\n",
       "     extra_minutes_income  extra_GB_income  extra_messages_income  \\\n",
       "0                     0.0              0.0                   0.00   \n",
       "723                   0.0             40.0                   0.00   \n",
       "724                   0.0             40.0                   0.00   \n",
       "722                   0.0             70.0                   0.09   \n",
       "720                   0.0              0.0                   0.00   \n",
       "\n",
       "     monthly_income  \n",
       "0             70.00  \n",
       "723           60.00  \n",
       "724           60.00  \n",
       "722           90.09  \n",
       "720           20.00  \n",
       "\n",
       "[5 rows x 24 columns]"
      ]
     },
     "execution_count": 47,
     "metadata": {},
     "output_type": "execute_result"
    }
   ],
   "source": [
    "# Imprimimiendo una muestra del nuevo DataFrame al aplicarle el método merge\n",
    "monthly_income_by_user.sort_values(\"user_id\").head()"
   ]
  },
  {
   "cell_type": "markdown",
   "metadata": {},
   "source": [
    "## Estudiando el comportamiento del usuario"
   ]
  },
  {
   "cell_type": "markdown",
   "metadata": {},
   "source": [
    "Surf tiene en promedio de minutos más altos"
   ]
  },
  {
   "cell_type": "code",
   "execution_count": 48,
   "metadata": {},
   "outputs": [
    {
     "data": {
      "text/html": [
       "<div>\n",
       "<style scoped>\n",
       "    .dataframe tbody tr th:only-of-type {\n",
       "        vertical-align: middle;\n",
       "    }\n",
       "\n",
       "    .dataframe tbody tr th {\n",
       "        vertical-align: top;\n",
       "    }\n",
       "\n",
       "    .dataframe thead tr th {\n",
       "        text-align: left;\n",
       "    }\n",
       "\n",
       "    .dataframe thead tr:last-of-type th {\n",
       "        text-align: right;\n",
       "    }\n",
       "</style>\n",
       "<table border=\"1\" class=\"dataframe\">\n",
       "  <thead>\n",
       "    <tr>\n",
       "      <th></th>\n",
       "      <th colspan=\"3\" halign=\"left\">monthly_minutes</th>\n",
       "      <th colspan=\"3\" halign=\"left\">monthly_messages</th>\n",
       "      <th colspan=\"3\" halign=\"left\">monthly_GB</th>\n",
       "      <th colspan=\"3\" halign=\"left\">monthly_income</th>\n",
       "    </tr>\n",
       "    <tr>\n",
       "      <th></th>\n",
       "      <th>mean</th>\n",
       "      <th>var</th>\n",
       "      <th>std</th>\n",
       "      <th>mean</th>\n",
       "      <th>var</th>\n",
       "      <th>std</th>\n",
       "      <th>mean</th>\n",
       "      <th>var</th>\n",
       "      <th>std</th>\n",
       "      <th>mean</th>\n",
       "      <th>var</th>\n",
       "      <th>std</th>\n",
       "    </tr>\n",
       "    <tr>\n",
       "      <th>plan_name</th>\n",
       "      <th></th>\n",
       "      <th></th>\n",
       "      <th></th>\n",
       "      <th></th>\n",
       "      <th></th>\n",
       "      <th></th>\n",
       "      <th></th>\n",
       "      <th></th>\n",
       "      <th></th>\n",
       "      <th></th>\n",
       "      <th></th>\n",
       "      <th></th>\n",
       "    </tr>\n",
       "  </thead>\n",
       "  <tbody>\n",
       "    <tr>\n",
       "      <th>surf</th>\n",
       "      <td>428.749523</td>\n",
       "      <td>54968.279461</td>\n",
       "      <td>234.453150</td>\n",
       "      <td>31.159568</td>\n",
       "      <td>1126.724522</td>\n",
       "      <td>33.566717</td>\n",
       "      <td>16.670693</td>\n",
       "      <td>61.58360</td>\n",
       "      <td>7.847522</td>\n",
       "      <td>60.706408</td>\n",
       "      <td>3067.835152</td>\n",
       "      <td>55.388042</td>\n",
       "    </tr>\n",
       "    <tr>\n",
       "      <th>ultimate</th>\n",
       "      <td>430.450000</td>\n",
       "      <td>57844.464812</td>\n",
       "      <td>240.508762</td>\n",
       "      <td>37.551389</td>\n",
       "      <td>1208.756744</td>\n",
       "      <td>34.767179</td>\n",
       "      <td>17.306944</td>\n",
       "      <td>58.83055</td>\n",
       "      <td>7.670108</td>\n",
       "      <td>72.313889</td>\n",
       "      <td>129.848486</td>\n",
       "      <td>11.395108</td>\n",
       "    </tr>\n",
       "  </tbody>\n",
       "</table>\n",
       "</div>"
      ],
      "text/plain": [
       "          monthly_minutes                           monthly_messages  \\\n",
       "                     mean           var         std             mean   \n",
       "plan_name                                                              \n",
       "surf           428.749523  54968.279461  234.453150        31.159568   \n",
       "ultimate       430.450000  57844.464812  240.508762        37.551389   \n",
       "\n",
       "                                  monthly_GB                      \\\n",
       "                   var        std       mean       var       std   \n",
       "plan_name                                                          \n",
       "surf       1126.724522  33.566717  16.670693  61.58360  7.847522   \n",
       "ultimate   1208.756744  34.767179  17.306944  58.83055  7.670108   \n",
       "\n",
       "          monthly_income                          \n",
       "                    mean          var        std  \n",
       "plan_name                                         \n",
       "surf           60.706408  3067.835152  55.388042  \n",
       "ultimate       72.313889   129.848486  11.395108  "
      ]
     },
     "execution_count": 48,
     "metadata": {},
     "output_type": "execute_result"
    }
   ],
   "source": [
    "#Calculando media, varianza y desviación estandar\n",
    "statistics = (\n",
    "  monthly_income_by_user\n",
    " .groupby(\"plan_name\")\n",
    " .agg({\"monthly_minutes\": [\"mean\", np.var, \"std\"],\n",
    "       \"monthly_messages\": [\"mean\", np.var, \"std\"],\n",
    "       \"monthly_GB\": [\"mean\", np.var, \"std\"],\n",
    "       \"monthly_income\": [\"mean\", np.var, \"std\"]})\n",
    ")\n",
    "statistics"
   ]
  },
  {
   "cell_type": "code",
   "execution_count": 49,
   "metadata": {},
   "outputs": [
    {
     "data": {
      "text/html": [
       "<div>\n",
       "<style scoped>\n",
       "    .dataframe tbody tr th:only-of-type {\n",
       "        vertical-align: middle;\n",
       "    }\n",
       "\n",
       "    .dataframe tbody tr th {\n",
       "        vertical-align: top;\n",
       "    }\n",
       "\n",
       "    .dataframe thead th {\n",
       "        text-align: right;\n",
       "    }\n",
       "</style>\n",
       "<table border=\"1\" class=\"dataframe\">\n",
       "  <thead>\n",
       "    <tr style=\"text-align: right;\">\n",
       "      <th></th>\n",
       "      <th>user_id</th>\n",
       "      <th>month</th>\n",
       "      <th>monthly_minutes</th>\n",
       "      <th>number_of_calls</th>\n",
       "      <th>monthly_messages</th>\n",
       "      <th>GB_used</th>\n",
       "      <th>monthly_GB</th>\n",
       "      <th>plan_name</th>\n",
       "      <th>city</th>\n",
       "      <th>messages_included</th>\n",
       "      <th>...</th>\n",
       "      <th>usd_per_message</th>\n",
       "      <th>usd_per_minute</th>\n",
       "      <th>GB_per_month_included</th>\n",
       "      <th>extra_minutes</th>\n",
       "      <th>extra_GB</th>\n",
       "      <th>extra_messages</th>\n",
       "      <th>extra_minutes_income</th>\n",
       "      <th>extra_GB_income</th>\n",
       "      <th>extra_messages_income</th>\n",
       "      <th>monthly_income</th>\n",
       "    </tr>\n",
       "  </thead>\n",
       "  <tbody>\n",
       "    <tr>\n",
       "      <th>0</th>\n",
       "      <td>1000</td>\n",
       "      <td>12</td>\n",
       "      <td>124.0</td>\n",
       "      <td>16.0</td>\n",
       "      <td>11.0</td>\n",
       "      <td>1.856904</td>\n",
       "      <td>2.0</td>\n",
       "      <td>ultimate</td>\n",
       "      <td>Atlanta-Sandy Springs-Roswell, GA MSA</td>\n",
       "      <td>1000</td>\n",
       "      <td>...</td>\n",
       "      <td>0.01</td>\n",
       "      <td>0.01</td>\n",
       "      <td>30.0</td>\n",
       "      <td>0.0</td>\n",
       "      <td>0.0</td>\n",
       "      <td>0.0</td>\n",
       "      <td>0.0</td>\n",
       "      <td>0.0</td>\n",
       "      <td>0.00</td>\n",
       "      <td>70.00</td>\n",
       "    </tr>\n",
       "    <tr>\n",
       "      <th>1</th>\n",
       "      <td>1006</td>\n",
       "      <td>11</td>\n",
       "      <td>10.0</td>\n",
       "      <td>2.0</td>\n",
       "      <td>15.0</td>\n",
       "      <td>2.019893</td>\n",
       "      <td>3.0</td>\n",
       "      <td>ultimate</td>\n",
       "      <td>San Francisco-Oakland-Berkeley, CA MSA</td>\n",
       "      <td>1000</td>\n",
       "      <td>...</td>\n",
       "      <td>0.01</td>\n",
       "      <td>0.01</td>\n",
       "      <td>30.0</td>\n",
       "      <td>0.0</td>\n",
       "      <td>0.0</td>\n",
       "      <td>0.0</td>\n",
       "      <td>0.0</td>\n",
       "      <td>0.0</td>\n",
       "      <td>0.00</td>\n",
       "      <td>70.00</td>\n",
       "    </tr>\n",
       "    <tr>\n",
       "      <th>2</th>\n",
       "      <td>1006</td>\n",
       "      <td>12</td>\n",
       "      <td>59.0</td>\n",
       "      <td>9.0</td>\n",
       "      <td>139.0</td>\n",
       "      <td>31.366035</td>\n",
       "      <td>32.0</td>\n",
       "      <td>ultimate</td>\n",
       "      <td>San Francisco-Oakland-Berkeley, CA MSA</td>\n",
       "      <td>1000</td>\n",
       "      <td>...</td>\n",
       "      <td>0.01</td>\n",
       "      <td>0.01</td>\n",
       "      <td>30.0</td>\n",
       "      <td>0.0</td>\n",
       "      <td>2.0</td>\n",
       "      <td>0.0</td>\n",
       "      <td>0.0</td>\n",
       "      <td>14.0</td>\n",
       "      <td>0.00</td>\n",
       "      <td>84.00</td>\n",
       "    </tr>\n",
       "    <tr>\n",
       "      <th>3</th>\n",
       "      <td>1008</td>\n",
       "      <td>10</td>\n",
       "      <td>476.0</td>\n",
       "      <td>71.0</td>\n",
       "      <td>21.0</td>\n",
       "      <td>16.706045</td>\n",
       "      <td>17.0</td>\n",
       "      <td>ultimate</td>\n",
       "      <td>Orlando-Kissimmee-Sanford, FL MSA</td>\n",
       "      <td>1000</td>\n",
       "      <td>...</td>\n",
       "      <td>0.01</td>\n",
       "      <td>0.01</td>\n",
       "      <td>30.0</td>\n",
       "      <td>0.0</td>\n",
       "      <td>0.0</td>\n",
       "      <td>0.0</td>\n",
       "      <td>0.0</td>\n",
       "      <td>0.0</td>\n",
       "      <td>0.00</td>\n",
       "      <td>70.00</td>\n",
       "    </tr>\n",
       "    <tr>\n",
       "      <th>4</th>\n",
       "      <td>1008</td>\n",
       "      <td>11</td>\n",
       "      <td>446.0</td>\n",
       "      <td>63.0</td>\n",
       "      <td>37.0</td>\n",
       "      <td>23.121797</td>\n",
       "      <td>24.0</td>\n",
       "      <td>ultimate</td>\n",
       "      <td>Orlando-Kissimmee-Sanford, FL MSA</td>\n",
       "      <td>1000</td>\n",
       "      <td>...</td>\n",
       "      <td>0.01</td>\n",
       "      <td>0.01</td>\n",
       "      <td>30.0</td>\n",
       "      <td>0.0</td>\n",
       "      <td>0.0</td>\n",
       "      <td>0.0</td>\n",
       "      <td>0.0</td>\n",
       "      <td>0.0</td>\n",
       "      <td>0.00</td>\n",
       "      <td>70.00</td>\n",
       "    </tr>\n",
       "    <tr>\n",
       "      <th>...</th>\n",
       "      <td>...</td>\n",
       "      <td>...</td>\n",
       "      <td>...</td>\n",
       "      <td>...</td>\n",
       "      <td>...</td>\n",
       "      <td>...</td>\n",
       "      <td>...</td>\n",
       "      <td>...</td>\n",
       "      <td>...</td>\n",
       "      <td>...</td>\n",
       "      <td>...</td>\n",
       "      <td>...</td>\n",
       "      <td>...</td>\n",
       "      <td>...</td>\n",
       "      <td>...</td>\n",
       "      <td>...</td>\n",
       "      <td>...</td>\n",
       "      <td>...</td>\n",
       "      <td>...</td>\n",
       "      <td>...</td>\n",
       "      <td>...</td>\n",
       "    </tr>\n",
       "    <tr>\n",
       "      <th>2288</th>\n",
       "      <td>1194</td>\n",
       "      <td>11</td>\n",
       "      <td>0.0</td>\n",
       "      <td>0.0</td>\n",
       "      <td>62.0</td>\n",
       "      <td>41.861426</td>\n",
       "      <td>42.0</td>\n",
       "      <td>surf</td>\n",
       "      <td>San Jose-Sunnyvale-Santa Clara, CA MSA</td>\n",
       "      <td>50</td>\n",
       "      <td>...</td>\n",
       "      <td>0.03</td>\n",
       "      <td>0.03</td>\n",
       "      <td>15.0</td>\n",
       "      <td>0.0</td>\n",
       "      <td>27.0</td>\n",
       "      <td>12.0</td>\n",
       "      <td>0.0</td>\n",
       "      <td>270.0</td>\n",
       "      <td>0.36</td>\n",
       "      <td>290.36</td>\n",
       "    </tr>\n",
       "    <tr>\n",
       "      <th>2289</th>\n",
       "      <td>1194</td>\n",
       "      <td>12</td>\n",
       "      <td>0.0</td>\n",
       "      <td>0.0</td>\n",
       "      <td>56.0</td>\n",
       "      <td>30.359854</td>\n",
       "      <td>31.0</td>\n",
       "      <td>surf</td>\n",
       "      <td>San Jose-Sunnyvale-Santa Clara, CA MSA</td>\n",
       "      <td>50</td>\n",
       "      <td>...</td>\n",
       "      <td>0.03</td>\n",
       "      <td>0.03</td>\n",
       "      <td>15.0</td>\n",
       "      <td>0.0</td>\n",
       "      <td>16.0</td>\n",
       "      <td>6.0</td>\n",
       "      <td>0.0</td>\n",
       "      <td>160.0</td>\n",
       "      <td>0.18</td>\n",
       "      <td>180.18</td>\n",
       "    </tr>\n",
       "    <tr>\n",
       "      <th>2290</th>\n",
       "      <td>1349</td>\n",
       "      <td>10</td>\n",
       "      <td>0.0</td>\n",
       "      <td>0.0</td>\n",
       "      <td>76.0</td>\n",
       "      <td>12.786670</td>\n",
       "      <td>13.0</td>\n",
       "      <td>surf</td>\n",
       "      <td>Boston-Cambridge-Newton, MA-NH MSA</td>\n",
       "      <td>50</td>\n",
       "      <td>...</td>\n",
       "      <td>0.03</td>\n",
       "      <td>0.03</td>\n",
       "      <td>15.0</td>\n",
       "      <td>0.0</td>\n",
       "      <td>0.0</td>\n",
       "      <td>26.0</td>\n",
       "      <td>0.0</td>\n",
       "      <td>0.0</td>\n",
       "      <td>0.78</td>\n",
       "      <td>20.78</td>\n",
       "    </tr>\n",
       "    <tr>\n",
       "      <th>2291</th>\n",
       "      <td>1349</td>\n",
       "      <td>11</td>\n",
       "      <td>0.0</td>\n",
       "      <td>0.0</td>\n",
       "      <td>72.0</td>\n",
       "      <td>16.726816</td>\n",
       "      <td>17.0</td>\n",
       "      <td>surf</td>\n",
       "      <td>Boston-Cambridge-Newton, MA-NH MSA</td>\n",
       "      <td>50</td>\n",
       "      <td>...</td>\n",
       "      <td>0.03</td>\n",
       "      <td>0.03</td>\n",
       "      <td>15.0</td>\n",
       "      <td>0.0</td>\n",
       "      <td>2.0</td>\n",
       "      <td>22.0</td>\n",
       "      <td>0.0</td>\n",
       "      <td>20.0</td>\n",
       "      <td>0.66</td>\n",
       "      <td>40.66</td>\n",
       "    </tr>\n",
       "    <tr>\n",
       "      <th>2292</th>\n",
       "      <td>1349</td>\n",
       "      <td>12</td>\n",
       "      <td>0.0</td>\n",
       "      <td>0.0</td>\n",
       "      <td>61.0</td>\n",
       "      <td>12.734287</td>\n",
       "      <td>13.0</td>\n",
       "      <td>surf</td>\n",
       "      <td>Boston-Cambridge-Newton, MA-NH MSA</td>\n",
       "      <td>50</td>\n",
       "      <td>...</td>\n",
       "      <td>0.03</td>\n",
       "      <td>0.03</td>\n",
       "      <td>15.0</td>\n",
       "      <td>0.0</td>\n",
       "      <td>0.0</td>\n",
       "      <td>11.0</td>\n",
       "      <td>0.0</td>\n",
       "      <td>0.0</td>\n",
       "      <td>0.33</td>\n",
       "      <td>20.33</td>\n",
       "    </tr>\n",
       "  </tbody>\n",
       "</table>\n",
       "<p>2293 rows × 24 columns</p>\n",
       "</div>"
      ],
      "text/plain": [
       "      user_id  month  monthly_minutes  number_of_calls  monthly_messages  \\\n",
       "0        1000     12            124.0             16.0              11.0   \n",
       "1        1006     11             10.0              2.0              15.0   \n",
       "2        1006     12             59.0              9.0             139.0   \n",
       "3        1008     10            476.0             71.0              21.0   \n",
       "4        1008     11            446.0             63.0              37.0   \n",
       "...       ...    ...              ...              ...               ...   \n",
       "2288     1194     11              0.0              0.0              62.0   \n",
       "2289     1194     12              0.0              0.0              56.0   \n",
       "2290     1349     10              0.0              0.0              76.0   \n",
       "2291     1349     11              0.0              0.0              72.0   \n",
       "2292     1349     12              0.0              0.0              61.0   \n",
       "\n",
       "        GB_used  monthly_GB plan_name                                    city  \\\n",
       "0      1.856904         2.0  ultimate   Atlanta-Sandy Springs-Roswell, GA MSA   \n",
       "1      2.019893         3.0  ultimate  San Francisco-Oakland-Berkeley, CA MSA   \n",
       "2     31.366035        32.0  ultimate  San Francisco-Oakland-Berkeley, CA MSA   \n",
       "3     16.706045        17.0  ultimate       Orlando-Kissimmee-Sanford, FL MSA   \n",
       "4     23.121797        24.0  ultimate       Orlando-Kissimmee-Sanford, FL MSA   \n",
       "...         ...         ...       ...                                     ...   \n",
       "2288  41.861426        42.0      surf  San Jose-Sunnyvale-Santa Clara, CA MSA   \n",
       "2289  30.359854        31.0      surf  San Jose-Sunnyvale-Santa Clara, CA MSA   \n",
       "2290  12.786670        13.0      surf      Boston-Cambridge-Newton, MA-NH MSA   \n",
       "2291  16.726816        17.0      surf      Boston-Cambridge-Newton, MA-NH MSA   \n",
       "2292  12.734287        13.0      surf      Boston-Cambridge-Newton, MA-NH MSA   \n",
       "\n",
       "      messages_included  ...  usd_per_message  usd_per_minute  \\\n",
       "0                  1000  ...             0.01            0.01   \n",
       "1                  1000  ...             0.01            0.01   \n",
       "2                  1000  ...             0.01            0.01   \n",
       "3                  1000  ...             0.01            0.01   \n",
       "4                  1000  ...             0.01            0.01   \n",
       "...                 ...  ...              ...             ...   \n",
       "2288                 50  ...             0.03            0.03   \n",
       "2289                 50  ...             0.03            0.03   \n",
       "2290                 50  ...             0.03            0.03   \n",
       "2291                 50  ...             0.03            0.03   \n",
       "2292                 50  ...             0.03            0.03   \n",
       "\n",
       "      GB_per_month_included  extra_minutes  extra_GB  extra_messages  \\\n",
       "0                      30.0            0.0       0.0             0.0   \n",
       "1                      30.0            0.0       0.0             0.0   \n",
       "2                      30.0            0.0       2.0             0.0   \n",
       "3                      30.0            0.0       0.0             0.0   \n",
       "4                      30.0            0.0       0.0             0.0   \n",
       "...                     ...            ...       ...             ...   \n",
       "2288                   15.0            0.0      27.0            12.0   \n",
       "2289                   15.0            0.0      16.0             6.0   \n",
       "2290                   15.0            0.0       0.0            26.0   \n",
       "2291                   15.0            0.0       2.0            22.0   \n",
       "2292                   15.0            0.0       0.0            11.0   \n",
       "\n",
       "      extra_minutes_income  extra_GB_income  extra_messages_income  \\\n",
       "0                      0.0              0.0                   0.00   \n",
       "1                      0.0              0.0                   0.00   \n",
       "2                      0.0             14.0                   0.00   \n",
       "3                      0.0              0.0                   0.00   \n",
       "4                      0.0              0.0                   0.00   \n",
       "...                    ...              ...                    ...   \n",
       "2288                   0.0            270.0                   0.36   \n",
       "2289                   0.0            160.0                   0.18   \n",
       "2290                   0.0              0.0                   0.78   \n",
       "2291                   0.0             20.0                   0.66   \n",
       "2292                   0.0              0.0                   0.33   \n",
       "\n",
       "      monthly_income  \n",
       "0              70.00  \n",
       "1              70.00  \n",
       "2              84.00  \n",
       "3              70.00  \n",
       "4              70.00  \n",
       "...              ...  \n",
       "2288          290.36  \n",
       "2289          180.18  \n",
       "2290           20.78  \n",
       "2291           40.66  \n",
       "2292           20.33  \n",
       "\n",
       "[2293 rows x 24 columns]"
      ]
     },
     "execution_count": 49,
     "metadata": {},
     "output_type": "execute_result"
    }
   ],
   "source": [
    "monthly_income_by_user"
   ]
  },
  {
   "cell_type": "code",
   "execution_count": 50,
   "metadata": {},
   "outputs": [
    {
     "data": {
      "text/plain": [
       "0.46511627906976744"
      ]
     },
     "execution_count": 50,
     "metadata": {},
     "output_type": "execute_result"
    }
   ],
   "source": [
    "# Diferencia de medias entre un surf y ultimate por monthly_minutes\n",
    "2/430 * 100"
   ]
  },
  {
   "cell_type": "code",
   "execution_count": 51,
   "metadata": {},
   "outputs": [
    {
     "data": {
      "text/plain": [
       "18.421052631578945"
      ]
     },
     "execution_count": 51,
     "metadata": {},
     "output_type": "execute_result"
    }
   ],
   "source": [
    "# Diferencia de medias entre un surf y ultimate por monthly_messages\n",
    "7/38 * 100"
   ]
  },
  {
   "cell_type": "code",
   "execution_count": 52,
   "metadata": {},
   "outputs": [
    {
     "data": {
      "text/plain": [
       "5.88235294117647"
      ]
     },
     "execution_count": 52,
     "metadata": {},
     "output_type": "execute_result"
    }
   ],
   "source": [
    "# Diferencia de medias entre un surf y ultimate por monthly_GB\n",
    "1/17 * 100"
   ]
  },
  {
   "cell_type": "code",
   "execution_count": 53,
   "metadata": {},
   "outputs": [
    {
     "data": {
      "text/plain": [
       "15.277777777777779"
      ]
     },
     "execution_count": 53,
     "metadata": {},
     "output_type": "execute_result"
    }
   ],
   "source": [
    "# Diferencia de medias entre un surf y ultimate por monthly_income\n",
    "11/72 * 100"
   ]
  },
  {
   "cell_type": "code",
   "execution_count": 54,
   "metadata": {},
   "outputs": [],
   "source": [
    "#Creando una tabla para cada plan, Surf y Ultimate.\n",
    "surf_monthly_income = monthly_income_by_user.loc[monthly_income_by_user[\"plan_name\"] == \"surf\"]\n",
    "ultimate_monthly_income = monthly_income_by_user.loc[monthly_income_by_user[\"plan_name\"] == \"ultimate\"]"
   ]
  },
  {
   "cell_type": "markdown",
   "metadata": {},
   "source": [
    "### Llamadas"
   ]
  },
  {
   "cell_type": "code",
   "execution_count": 55,
   "metadata": {},
   "outputs": [
    {
     "data": {
      "image/png": "[encoded data removed]",
      "text/plain": [
       "<Figure size 720x432 with 1 Axes>"
      ]
     },
     "metadata": {
      "needs_background": "light"
     },
     "output_type": "display_data"
    }
   ],
   "source": [
    "# Comparando la duración promedio de llamadas por cada plan por cada mes.\n",
    "mean_call_plan = monthly_income_by_user.pivot_table(index=\"month\", columns=\"plan_name\", values=\"monthly_minutes\")\n",
    "\n",
    "mean_call_plan.plot(kind=\"bar\", title= f\"Average call per plan\", figsize=(10, 6))\n",
    "plt.ylabel(f\"mean minutes\")\n",
    "plt.xlabel(f\"Month\")\n",
    "plt.ylim(0,500)\n",
    "plt.show()"
   ]
  },
  {
   "cell_type": "markdown",
   "metadata": {},
   "source": [
    "En el **histograma** aplicamos \"*density= True*\" para normalizar el tamaño de ambas poblaciones."
   ]
  },
  {
   "cell_type": "code",
   "execution_count": 56,
   "metadata": {},
   "outputs": [
    {
     "data": {
      "image/png": "[encoded data removed]",
      "text/plain": [
       "<Figure size 720x432 with 1 Axes>"
      ]
     },
     "metadata": {
      "needs_background": "light"
     },
     "output_type": "display_data"
    }
   ],
   "source": [
    "# Comparando el número de minutos que los usuarios de cada plan requieren cada mes.\n",
    "surf_monthly_income[\"monthly_minutes\"].plot(kind=\"hist\", alpha=0.5, label=\"surf\", density=True, figsize=(10, 6))\n",
    "ultimate_monthly_income[\"monthly_minutes\"].plot(kind=\"hist\", alpha=0.5, label=\"ultimate\", density=True, figsize=(10, 6))\n",
    "plt.legend()\n",
    "\n",
    "plt.title(f\"monthly_minutes_that_users_require_each_plan\")\n",
    "plt.ylabel(f\"relative_frequency\")\n",
    "plt.xlabel(f\"monthly_minutes\")\n",
    "\n",
    "plt.show()"
   ]
  },
  {
   "cell_type": "code",
   "execution_count": 57,
   "metadata": {},
   "outputs": [
    {
     "data": {
      "image/png": "[encoded data removed]",
      "text/plain": [
       "<Figure size 725.75x432 with 1 Axes>"
      ]
     },
     "metadata": {
      "needs_background": "light"
     },
     "output_type": "display_data"
    }
   ],
   "source": [
    "# Visualizando la distribución de la duración mensual de llamadas.\n",
    "calls= sns.catplot(data= monthly_income_by_user, x=\"month\", y=\"monthly_minutes\", hue=\"plan_name\", kind=\"box\", height=6, aspect=1.5)\n",
    "calls.fig.suptitle('Minutos al mes por plan')\n",
    "plt.show()"
   ]
  },
  {
   "cell_type": "markdown",
   "metadata": {},
   "source": [
    "**Conclusiones**\n",
    "\n",
    "Analizando cómo se comportan los usuarios en cuanto a las llamadas, observamos:\n",
    "\n",
    "- `La duración promedio de llamadas por cada plan por cada mes`, para ambos planes es muy parecida, solo varia en un 0.5%. Los usuarios con el plan ultimate se mantuvieron con los minutos que trae su plan; sin embargo, es todo lo contratio para los usuarios del plan Surf.\n",
    "        \n",
    "    \n",
    "- `El número de minutos que los usuarios de cada plan requieren cada mes`, los usuarios de ambos planes coninciden en que usaron entre 300 a 550 minutos aprox.\n",
    "\n",
    "\n",
    "- `Visualizando la distribución de la duración mensual de llamadas`, ambos planes tienen un comportamiento similar entre mayo-diciembre 2018, habiendo diferencia entre los primeros cuatros meses."
   ]
  },
  {
   "cell_type": "markdown",
   "metadata": {},
   "source": [
    "### Mensajes"
   ]
  },
  {
   "cell_type": "code",
   "execution_count": 58,
   "metadata": {},
   "outputs": [
    {
     "data": {
      "image/png": "[encoded data removed]",
      "text/plain": [
       "<Figure size 720x432 with 1 Axes>"
      ]
     },
     "metadata": {
      "needs_background": "light"
     },
     "output_type": "display_data"
    }
   ],
   "source": [
    "# Comprarando el número de mensajes que tienden a enviar cada mes los usuarios de cada plan\n",
    "mean_messages_plan = monthly_income_by_user.pivot_table(index=\"month\", columns=\"plan_name\", values=\"monthly_messages\")\n",
    "\n",
    "mean_messages_plan.plot(kind=\"bar\", title= f\"Average messages per plan\", figsize=(10, 6))\n",
    "plt.ylabel(f\"mean messages\")\n",
    "plt.xlabel(f\"Month\")\n",
    "plt.ylim(0,50)\n",
    "plt.show()"
   ]
  },
  {
   "cell_type": "code",
   "execution_count": 59,
   "metadata": {},
   "outputs": [
    {
     "data": {
      "image/png": "[encoded data removed]",
      "text/plain": [
       "<Figure size 720x432 with 1 Axes>"
      ]
     },
     "metadata": {
      "needs_background": "light"
     },
     "output_type": "display_data"
    }
   ],
   "source": [
    "# Comparando el número de mensajes que los usuarios de cada plan requieren cada mes.\n",
    "surf_monthly_income[\"monthly_messages\"].plot(kind=\"hist\", alpha=0.5, label=\"surf\", density=True, figsize=(10, 6))\n",
    "ultimate_monthly_income[\"monthly_messages\"].plot(kind=\"hist\", alpha=0.5, label=\"ultimate\", density=True, figsize=(10, 6))\n",
    "plt.legend()\n",
    "\n",
    "plt.title(f\"monthly_messages_that_users_require_each_plan\")\n",
    "plt.ylabel(f\"relative_frequency\")\n",
    "plt.xlabel(f\"monthly_messages\")\n",
    "\n",
    "plt.show()"
   ]
  },
  {
   "cell_type": "code",
   "execution_count": 60,
   "metadata": {},
   "outputs": [
    {
     "data": {
      "image/png": "[encoded data removed]",
      "text/plain": [
       "<Figure size 725.75x432 with 1 Axes>"
      ]
     },
     "metadata": {
      "needs_background": "light"
     },
     "output_type": "display_data"
    }
   ],
   "source": [
    "# Visualizando la distribución del consumo mensual de mensajes.\n",
    "messages= sns.catplot(data= monthly_income_by_user, x=\"month\", y=\"monthly_messages\", hue=\"plan_name\", kind=\"box\", height=6, aspect=1.5)\n",
    "messages.fig.suptitle('Mensajes al mes por plan')\n",
    "plt.show()"
   ]
  },
  {
   "cell_type": "markdown",
   "metadata": {},
   "source": [
    "**Conclusiones**\n",
    "\n",
    "Analizando cómo se comportan los usuarios en cuanto al envio de mensajes, observamos:\n",
    "\n",
    "- `La duración promedio de mensajes por cada plan por cada mes`, varia entre ambos planes en en un 18% aprox, siendo el plan ultimate el que consume más mensajes en promedio al mes; sin embargo, los usuarios en promedio no se exceden con el envio de mensajes más allá de lo que trae su plan.\n",
    "        \n",
    "    \n",
    "- `El número de mensajes que los usuarios de cada plan requieren cada mes`, los usuarios de ambos planes coinciden en que consumen entre 0 a 50 mensajes aprox.\n",
    "\n",
    "\n",
    "- `Visualizando la distribución del consumo mensual de mensajes`, el plan ultimate en promedio consume más mensajes que el plan surf."
   ]
  },
  {
   "cell_type": "markdown",
   "metadata": {},
   "source": [
    "### Internet"
   ]
  },
  {
   "cell_type": "code",
   "execution_count": 61,
   "metadata": {},
   "outputs": [
    {
     "data": {
      "image/png": "[encoded data removed]",
      "text/plain": [
       "<Figure size 720x432 with 1 Axes>"
      ]
     },
     "metadata": {
      "needs_background": "light"
     },
     "output_type": "display_data"
    }
   ],
   "source": [
    "# Comprarando el número de GB que tienden a consumir cada mes los usuarios de cada plan\n",
    "mean_GB_plan = monthly_income_by_user.pivot_table(index=\"month\", columns=\"plan_name\", values=\"monthly_GB\")\n",
    "\n",
    "mean_GB_plan.plot(kind=\"bar\", title= f\"Average GB per plan\", figsize=(10, 6))\n",
    "plt.ylabel(f\"mean GB\")\n",
    "plt.xlabel(f\"Month\")\n",
    "plt.ylim(0,25)\n",
    "plt.show()"
   ]
  },
  {
   "cell_type": "code",
   "execution_count": 62,
   "metadata": {},
   "outputs": [
    {
     "data": {
      "image/png": "[encoded data removed]",
      "text/plain": [
       "<Figure size 720x432 with 1 Axes>"
      ]
     },
     "metadata": {
      "needs_background": "light"
     },
     "output_type": "display_data"
    }
   ],
   "source": [
    "# Comparando el número de GB que los usuarios de cada plan requieren cada mes.\n",
    "surf_monthly_income[\"monthly_GB\"].plot(kind=\"hist\", alpha=0.5, label=\"surf\", density=True, figsize=(10, 6))\n",
    "ultimate_monthly_income[\"monthly_GB\"].plot(kind=\"hist\", alpha=0.5, label=\"ultimate\", density=True, figsize=(10, 6))\n",
    "plt.legend()\n",
    "\n",
    "plt.title(f\"monthly_GB_that_users_require_each_plan\")\n",
    "plt.ylabel(f\"relative_frequency\")\n",
    "plt.xlabel(f\"monthly_GB\")\n",
    "\n",
    "plt.show()"
   ]
  },
  {
   "cell_type": "code",
   "execution_count": 63,
   "metadata": {},
   "outputs": [
    {
     "data": {
      "image/png": "[encoded data removed]",
      "text/plain": [
       "<Figure size 725.75x432 with 1 Axes>"
      ]
     },
     "metadata": {
      "needs_background": "light"
     },
     "output_type": "display_data"
    }
   ],
   "source": [
    "# Visualizando la distribución de la consumo mensual de GB.\n",
    "calls= sns.catplot(data= monthly_income_by_user, x=\"month\", y=\"monthly_GB\", hue=\"plan_name\", kind=\"box\", height=6, aspect=1.5)\n",
    "calls.fig.suptitle('GB al mes por plan')\n",
    "plt.show()"
   ]
  },
  {
   "cell_type": "markdown",
   "metadata": {},
   "source": [
    "**Conclusiones**\n",
    "\n",
    "Analizando cómo se comportan los usuarios en cuanto al consumo de GB, observamos:\n",
    "\n",
    "- `La duración promedio deL consumo de GB por cada plan por cada mes`, varia entre ambos planes en en un 6% aprox, siendo el plan ultimate el que consume más mensajes en promedio al mes; sin embargo, los usuarios del plan Surf consumieron más GB de lo que su plan trae de junio-diciembre 2018.\n",
    "        \n",
    "    \n",
    "- `El consumo de GB que los usuarios de cada plan requieren cada mes`, los usuarios de ambos planes coinciden en que consumen entre 10 a 23 GB aprox.\n",
    "\n",
    "\n",
    "- `Visualizando la distribución del consumo de GB por mes`, el plan ultimate su promedio de consumo fue mayor durante los primeros cinco meses que el plan surf. El resto de los meses se puede decir que fue parejo."
   ]
  },
  {
   "cell_type": "markdown",
   "metadata": {},
   "source": [
    "## Estudiando el ingreso por plan"
   ]
  },
  {
   "cell_type": "code",
   "execution_count": 64,
   "metadata": {},
   "outputs": [
    {
     "data": {
      "image/png": "[encoded data removed]",
      "text/plain": [
       "<Figure size 720x432 with 1 Axes>"
      ]
     },
     "metadata": {
      "needs_background": "light"
     },
     "output_type": "display_data"
    }
   ],
   "source": [
    "# Comprarando el ingreso por cada mes por los usuarios de cada plan\n",
    "mean_income_plan = monthly_income_by_user.pivot_table(index=\"month\", columns=\"plan_name\", values=\"monthly_income\")\n",
    "\n",
    "mean_income_plan.plot(kind=\"bar\", title= f\"Average income per plan\", figsize=(10, 6))\n",
    "plt.ylabel(f\"mean income\")\n",
    "plt.xlabel(f\"Month\")\n",
    "plt.ylim(0,90)\n",
    "plt.show()"
   ]
  },
  {
   "cell_type": "code",
   "execution_count": 65,
   "metadata": {},
   "outputs": [
    {
     "data": {
      "image/png": "[encoded data removed]",
      "text/plain": [
       "<Figure size 720x432 with 1 Axes>"
      ]
     },
     "metadata": {
      "needs_background": "light"
     },
     "output_type": "display_data"
    }
   ],
   "source": [
    "# Comparando el número de ingreso por los usuarios de cada plan al mes.\n",
    "surf_monthly_income[\"monthly_income\"].plot(kind=\"hist\", alpha=0.5, label=\"surf\", figsize=(10, 6), bins=30)\n",
    "ultimate_monthly_income[\"monthly_income\"].plot(kind=\"hist\", alpha=0.5, label=\"ultimate\", figsize=(10, 6), bins=5)\n",
    "plt.legend()\n",
    "\n",
    "plt.title(f\"monthly_income_that_users_require_each_plan\")\n",
    "plt.ylabel(f\"frequency\")\n",
    "plt.xlabel(f\"monthly_income\")\n",
    "\n",
    "plt.show()"
   ]
  },
  {
   "cell_type": "code",
   "execution_count": 66,
   "metadata": {},
   "outputs": [
    {
     "data": {
      "image/png": "[encoded data removed]",
      "text/plain": [
       "<Figure size 725.75x432 with 1 Axes>"
      ]
     },
     "metadata": {
      "needs_background": "light"
     },
     "output_type": "display_data"
    }
   ],
   "source": [
    "# Visualizando la distribución del ingreso mensual por plan.\n",
    "calls= sns.catplot(data= monthly_income_by_user, x=\"month\", y=\"monthly_income\", hue=\"plan_name\", kind=\"box\", height=6, aspect=1.5)\n",
    "calls.fig.suptitle('GB al mes por plan')\n",
    "plt.show()"
   ]
  },
  {
   "cell_type": "markdown",
   "metadata": {},
   "source": [
    " **Conclusiones**\n",
    "\n",
    "Analizando cómo difiere el ingreso entre los planes, observamos:\n",
    "\n",
    "- `El ingreso por cada mes por los usuarios de cada plan`, varia entre ambos planes en en un 15% aprox, siendo el plan ultimate el que genera mayores ingresos comparado el plan sur; sin embargo, el plan surf todos los meses genera ingresos extras muy por encima al pago mensual de su plan que son 20 USD, entre 10-50 USD extras, en creciente por mes.\n",
    "        \n",
    "    \n",
    "- `El número de ingreso por los usuarios de cada plan al mes`, el plan surf tiene mayor frecuencia de ingreso que el plan ultimate a pesar que su plan base es menor.\n",
    "\n",
    "\n",
    "- `Visualizando la distribución del ingreso mensual por plan`, aunque el plan ultimate y más costoso que el plan surf, sus ingresos estan casi a la par, y se evidencia que el plan surf no se adapta a las necesidades del usuario ya que termina pagando mucho más que su plan base."
   ]
  },
  {
   "cell_type": "markdown",
   "metadata": {},
   "source": [
    "## Probando las hipótesis estadísticas"
   ]
  },
  {
   "cell_type": "markdown",
   "metadata": {},
   "source": [
    "### Ingreso promedio por  plan"
   ]
  },
  {
   "cell_type": "markdown",
   "metadata": {},
   "source": [
    "#### Corroborando si las muestras presentan una distribución normal"
   ]
  },
  {
   "cell_type": "code",
   "execution_count": 67,
   "metadata": {},
   "outputs": [
    {
     "data": {
      "text/plain": [
       "ShapiroResult(statistic=0.7346445918083191, pvalue=1.5414283107572988e-44)"
      ]
     },
     "execution_count": 67,
     "metadata": {},
     "output_type": "execute_result"
    }
   ],
   "source": [
    "stats.shapiro(\n",
    "    surf_monthly_income[\"monthly_income\"],\n",
    ")"
   ]
  },
  {
   "cell_type": "code",
   "execution_count": 68,
   "metadata": {},
   "outputs": [
    {
     "data": {
      "text/plain": [
       "ShapiroResult(statistic=0.20936310291290283, pvalue=0.0)"
      ]
     },
     "execution_count": 68,
     "metadata": {},
     "output_type": "execute_result"
    }
   ],
   "source": [
    "stats.shapiro(\n",
    "    ultimate_monthly_income[\"monthly_income\"],\n",
    ")"
   ]
  },
  {
   "cell_type": "markdown",
   "metadata": {},
   "source": [
    "A partir de los resultados obtenidos, ya que ambos pvalue son menor a 0.05, podemos concluir que ninguno de los dos vectores son normales."
   ]
  },
  {
   "cell_type": "markdown",
   "metadata": {},
   "source": [
    "#### Definición de hipótesis nula e hipótesis alternativa"
   ]
  },
  {
   "cell_type": "markdown",
   "metadata": {},
   "source": [
    "- **`H0`**= el ingreso promedio de los usuarios de los planes de llamada Ultimate y Surf son *iguales*.\n",
    "\n",
    "- **`H1`**= el ingreso promedio de los usuarios de los planes de llamada Ultimate y Surf son *diferentes*."
   ]
  },
  {
   "cell_type": "markdown",
   "metadata": {},
   "source": [
    "#### Prueba de hipótesis"
   ]
  },
  {
   "cell_type": "code",
   "execution_count": 69,
   "metadata": {},
   "outputs": [
    {
     "name": "stdout",
     "output_type": "stream",
     "text": [
      "statistic:  355086.0\n",
      "\n",
      "p_value:  1.912179587173433e-48\n",
      "\n",
      "1.912179587173433e-48 < 0.05\n",
      "Rechazamos la hipótesis nula\n"
     ]
    }
   ],
   "source": [
    "# Prueba las hipótesis\n",
    "alpha= 0.05\n",
    "\n",
    "statistic, p_value  = st.mannwhitneyu(\n",
    "    surf_monthly_income[\"monthly_income\"],\n",
    "    ultimate_monthly_income[\"monthly_income\"]\n",
    ")\n",
    "\n",
    "print('statistic: ', statistic)\n",
    "print()\n",
    "print('p_value: ', p_value)\n",
    "print()\n",
    "print(p_value, \"<\", alpha)\n",
    "\n",
    "if p_value < alpha:\n",
    "    print('Rechazamos la hipótesis nula')\n",
    "else:\n",
    "    print(\"No rechazamos la hipótesis nula\")"
   ]
  },
  {
   "cell_type": "markdown",
   "metadata": {},
   "source": [
    "La probabilidad de que statistic ocurra es de 1.912179587173433e-46 % y el ingreso promedio de los usuarios de los planes de llamada Ultimate y Surf son diferentes. Las medias no son iguales."
   ]
  },
  {
   "cell_type": "markdown",
   "metadata": {},
   "source": [
    "### Ingreso promedio por  región"
   ]
  },
  {
   "cell_type": "markdown",
   "metadata": {},
   "source": [
    "#### Corroborando si las muestras presentan una distribución normal"
   ]
  },
  {
   "cell_type": "code",
   "execution_count": 70,
   "metadata": {},
   "outputs": [],
   "source": [
    "NY_NJ_regions_income = monthly_income_by_user.loc[monthly_income_by_user[\"city\"].str.contains(\"NY-NJ\")]\n",
    "Rest_regions_income = monthly_income_by_user.loc[~monthly_income_by_user[\"city\"].str.contains(\"NY-NJ\")]"
   ]
  },
  {
   "cell_type": "code",
   "execution_count": 71,
   "metadata": {},
   "outputs": [
    {
     "data": {
      "text/plain": [
       "ShapiroResult(statistic=0.8283717632293701, pvalue=9.16044367265658e-20)"
      ]
     },
     "execution_count": 71,
     "metadata": {},
     "output_type": "execute_result"
    }
   ],
   "source": [
    "stats.shapiro(\n",
    "    NY_NJ_regions_income[\"monthly_income\"],\n",
    ")"
   ]
  },
  {
   "cell_type": "code",
   "execution_count": 72,
   "metadata": {},
   "outputs": [
    {
     "data": {
      "text/plain": [
       "ShapiroResult(statistic=0.7427323460578918, pvalue=0.0)"
      ]
     },
     "execution_count": 72,
     "metadata": {},
     "output_type": "execute_result"
    }
   ],
   "source": [
    "stats.shapiro(\n",
    "    Rest_regions_income[\"monthly_income\"],\n",
    ")"
   ]
  },
  {
   "cell_type": "markdown",
   "metadata": {},
   "source": [
    "**Conclusión intermedia**\n",
    "\n",
    "A partir de los resultados obtenidos, ya que ambos pvalue son menor a 0.05, podemos concluir que ninguno de los dos vectores son normales."
   ]
  },
  {
   "cell_type": "markdown",
   "metadata": {},
   "source": [
    "#### Definición de hipótesis nula e hipótesis alternativa"
   ]
  },
  {
   "cell_type": "markdown",
   "metadata": {},
   "source": [
    "- **`H0`** el ingreso promedio de los usuarios del área NY-NJ y de los usuarios de otras regiones son *iguales*\n",
    "\n",
    "- **`H1`**= el ingreso promedio de los usuarios del área NY-NJ y de los usuarios de otras regiones son *diferentes*"
   ]
  },
  {
   "cell_type": "markdown",
   "metadata": {},
   "source": [
    "#### Prueba de hipótesis"
   ]
  },
  {
   "cell_type": "code",
   "execution_count": 73,
   "metadata": {},
   "outputs": [
    {
     "name": "stdout",
     "output_type": "stream",
     "text": [
      "statistic:  327909.5\n",
      "\n",
      "p_value:  0.003927631468615441\n",
      "\n",
      "0.003927631468615441 < 0.05\n",
      "Rechazamos la hipótesis nula\n"
     ]
    }
   ],
   "source": [
    "# Prueba las hipótesis\n",
    "\n",
    "alpha= 0.05\n",
    "\n",
    "statistic, p_value  = st.mannwhitneyu(\n",
    "    NY_NJ_regions_income[\"monthly_income\"],\n",
    "    Rest_regions_income[\"monthly_income\"]\n",
    ")\n",
    "\n",
    "print('statistic: ', statistic)\n",
    "print()\n",
    "print('p_value: ', p_value)\n",
    "print()\n",
    "print(p_value, \"<\", alpha)\n",
    "\n",
    "if p_value < alpha:\n",
    "    print('Rechazamos la hipótesis nula')\n",
    "else:\n",
    "    print(\"No rechazamos la hipótesis nula\")"
   ]
  },
  {
   "cell_type": "markdown",
   "metadata": {},
   "source": [
    "La probabilidad de que statistic ocurra es de 0.39 % y el ingreso promedio de los usuarios del área NY-NJ y de los usuarios de otras regiones son diferentes. Las medias no son iguales."
   ]
  },
  {
   "cell_type": "code",
   "execution_count": 74,
   "metadata": {},
   "outputs": [
    {
     "name": "stdout",
     "output_type": "stream",
     "text": [
      "Mean_NY_NJ_regions_income:  59.92135278514589\n",
      "Mean_Rest_regions_income:  65.2227713987474\n"
     ]
    }
   ],
   "source": [
    "#Medias de ingresos por región\n",
    "print('Mean_NY_NJ_regions_income: ', NY_NJ_regions_income[\"monthly_income\"].mean())\n",
    "print('Mean_Rest_regions_income: ', Rest_regions_income[\"monthly_income\"].mean())"
   ]
  },
  {
   "cell_type": "markdown",
   "metadata": {},
   "source": [
    "## Conclusión general"
   ]
  },
  {
   "cell_type": "markdown",
   "metadata": {},
   "source": [
    " - **`1`**.- El plan Surf le genera más ingresos al operador de telecomunicaciones Megaline comparado con el plan Surf ya que se evidencio un ingreso por mes mucho mayor a la base de su plan original (20 USD), de hasta tres veces su valor.\n",
    "        \n",
    "    \n",
    " - **`2`**.- Los usuarios del plan Surf deberían cambiarse de plan, o ajustarse al paquete  contratado y así no pagar más de lo planificado. Los usuarios del plan Ultimate, a pesar de excederse por poco en el costo de su plan inicial en ciertos meses, se evidencia que hicieron una mejor escongencia de plan con base a sus necesidades.   \n",
    "\n",
    "\n",
    " - **`3`**.- Al probar las hipótesis estadísticas tenemos:\n",
    "     \n",
    "     **a).- Ingreso promedio por plan**: se rechaza la hipótesis nula, por lo cuál el ingreso promedio de los usuarios de los planes de llamada Ultimate y Surf son diferentes.\n",
    "     \n",
    "     **b).- Ingreso promedio por región**: se rechaza la hipótesis nula, por lo cuál el ingreso promedio de los usuarios del área NY-NJ y de los usuarios de otras regiones son diferentes."
   ]
  },
  {
   "cell_type": "code",
   "execution_count": null,
   "metadata": {},
   "outputs": [],
   "source": []
  }
 ],
 "metadata": {
  "ExecuteTimeLog": [
   {
    "duration": 828,
    "start_time": "2021-11-16T09:21:11.304Z"
   },
   {
    "duration": 893,
    "start_time": "2021-11-16T09:21:17.728Z"
   },
   {
    "duration": 1150,
    "start_time": "2021-11-16T09:21:29.568Z"
   },
   {
    "duration": 3,
    "start_time": "2021-11-16T09:24:14.495Z"
   },
   {
    "duration": 120,
    "start_time": "2021-11-16T09:24:46.630Z"
   },
   {
    "duration": 3,
    "start_time": "2021-11-16T09:28:27.882Z"
   },
   {
    "duration": 4,
    "start_time": "2021-11-16T09:29:54.281Z"
   },
   {
    "duration": 3,
    "start_time": "2021-11-16T09:30:45.936Z"
   },
   {
    "duration": 4,
    "start_time": "2021-11-16T09:31:06.300Z"
   },
   {
    "duration": 113,
    "start_time": "2021-11-16T09:31:37.208Z"
   },
   {
    "duration": 143,
    "start_time": "2021-11-16T09:31:48.656Z"
   },
   {
    "duration": 98,
    "start_time": "2021-11-16T09:31:55.678Z"
   },
   {
    "duration": 3,
    "start_time": "2021-11-16T09:32:08.535Z"
   },
   {
    "duration": 111,
    "start_time": "2021-11-16T09:32:10.120Z"
   },
   {
    "duration": 3,
    "start_time": "2021-11-16T09:32:15.732Z"
   },
   {
    "duration": 4,
    "start_time": "2021-11-16T09:32:29.423Z"
   },
   {
    "duration": 3,
    "start_time": "2021-11-16T10:03:03.074Z"
   },
   {
    "duration": 3,
    "start_time": "2021-11-16T10:10:01.288Z"
   },
   {
    "duration": 3,
    "start_time": "2021-11-16T10:10:46.923Z"
   },
   {
    "duration": 121,
    "start_time": "2021-11-16T10:37:46.494Z"
   },
   {
    "duration": 125,
    "start_time": "2021-11-16T10:38:20.632Z"
   },
   {
    "duration": 112,
    "start_time": "2021-11-16T10:46:53.001Z"
   },
   {
    "duration": 110,
    "start_time": "2021-11-16T10:48:25.775Z"
   },
   {
    "duration": 3,
    "start_time": "2021-11-16T10:50:18.720Z"
   },
   {
    "duration": 4,
    "start_time": "2021-11-16T10:50:37.649Z"
   },
   {
    "duration": 2,
    "start_time": "2021-11-16T10:50:51.884Z"
   },
   {
    "duration": 3,
    "start_time": "2021-11-16T10:51:56.237Z"
   },
   {
    "duration": 101,
    "start_time": "2021-11-16T10:53:13.791Z"
   },
   {
    "duration": 3,
    "start_time": "2021-11-16T10:55:59.186Z"
   },
   {
    "duration": 3,
    "start_time": "2021-11-16T10:56:10.751Z"
   },
   {
    "duration": 3,
    "start_time": "2021-11-16T10:56:49.038Z"
   },
   {
    "duration": 3,
    "start_time": "2021-11-16T10:56:49.174Z"
   },
   {
    "duration": 4,
    "start_time": "2021-11-16T10:56:49.414Z"
   },
   {
    "duration": 3,
    "start_time": "2021-11-16T10:56:49.680Z"
   },
   {
    "duration": 3,
    "start_time": "2021-11-16T10:56:50.370Z"
   },
   {
    "duration": 114,
    "start_time": "2021-11-16T10:59:34.518Z"
   },
   {
    "duration": 3,
    "start_time": "2021-11-16T11:01:41.201Z"
   },
   {
    "duration": 116,
    "start_time": "2021-11-16T11:01:48.754Z"
   },
   {
    "duration": 3,
    "start_time": "2021-11-16T11:02:16.685Z"
   },
   {
    "duration": 3,
    "start_time": "2021-11-16T11:02:19.479Z"
   },
   {
    "duration": 3,
    "start_time": "2021-11-16T11:02:47.067Z"
   },
   {
    "duration": 3,
    "start_time": "2021-11-16T11:02:49.353Z"
   },
   {
    "duration": 3,
    "start_time": "2021-11-16T11:03:07.835Z"
   },
   {
    "duration": 3,
    "start_time": "2021-11-16T11:03:07.953Z"
   },
   {
    "duration": 112,
    "start_time": "2021-11-16T11:07:52.072Z"
   },
   {
    "duration": 187,
    "start_time": "2021-11-16T11:09:23.468Z"
   },
   {
    "duration": 4,
    "start_time": "2021-11-16T11:10:01.455Z"
   },
   {
    "duration": 3,
    "start_time": "2021-11-16T11:10:05.069Z"
   },
   {
    "duration": 4,
    "start_time": "2021-11-16T11:10:13.376Z"
   },
   {
    "duration": 3,
    "start_time": "2021-11-16T11:10:14.434Z"
   },
   {
    "duration": 3,
    "start_time": "2021-11-16T11:10:22.853Z"
   },
   {
    "duration": 4,
    "start_time": "2021-11-16T11:27:29.279Z"
   },
   {
    "duration": 4,
    "start_time": "2021-11-16T11:29:08.919Z"
   },
   {
    "duration": 118,
    "start_time": "2021-11-16T11:29:46.703Z"
   },
   {
    "duration": 437,
    "start_time": "2021-11-16T11:36:02.181Z"
   },
   {
    "duration": 157,
    "start_time": "2021-11-16T11:36:14.388Z"
   },
   {
    "duration": 207,
    "start_time": "2021-11-16T11:47:15.898Z"
   },
   {
    "duration": 3,
    "start_time": "2021-11-16T11:53:52.092Z"
   },
   {
    "duration": 3,
    "start_time": "2021-11-16T11:53:52.236Z"
   },
   {
    "duration": 3,
    "start_time": "2021-11-16T11:59:12.005Z"
   },
   {
    "duration": 112,
    "start_time": "2021-11-16T12:00:33.446Z"
   },
   {
    "duration": 3,
    "start_time": "2021-11-16T12:02:14.453Z"
   },
   {
    "duration": 3,
    "start_time": "2021-11-16T12:02:39.512Z"
   },
   {
    "duration": 106,
    "start_time": "2021-11-16T12:03:03.460Z"
   },
   {
    "duration": 3,
    "start_time": "2021-11-17T20:37:21.139Z"
   },
   {
    "duration": 3,
    "start_time": "2021-11-17T20:37:22.229Z"
   },
   {
    "duration": 3,
    "start_time": "2021-11-17T20:38:38.806Z"
   },
   {
    "duration": 3,
    "start_time": "2021-11-17T20:38:41.958Z"
   },
   {
    "duration": 3,
    "start_time": "2021-11-17T20:43:46.551Z"
   },
   {
    "duration": 4,
    "start_time": "2021-11-17T20:58:21.835Z"
   },
   {
    "duration": 3,
    "start_time": "2021-11-17T20:59:21.872Z"
   },
   {
    "duration": 4,
    "start_time": "2021-11-17T20:59:45.352Z"
   },
   {
    "duration": 4,
    "start_time": "2021-11-17T20:59:49.646Z"
   },
   {
    "duration": 159,
    "start_time": "2021-11-17T21:02:26.949Z"
   },
   {
    "duration": 3,
    "start_time": "2021-11-17T21:03:53.461Z"
   },
   {
    "duration": 3,
    "start_time": "2021-11-17T21:03:53.694Z"
   },
   {
    "duration": 3,
    "start_time": "2021-11-17T21:05:28.145Z"
   },
   {
    "duration": 116,
    "start_time": "2021-11-17T21:05:57.787Z"
   },
   {
    "duration": 3,
    "start_time": "2021-11-17T21:06:37.993Z"
   },
   {
    "duration": 3,
    "start_time": "2021-11-17T21:06:38.261Z"
   },
   {
    "duration": 3,
    "start_time": "2021-11-17T21:11:54.358Z"
   },
   {
    "duration": 3,
    "start_time": "2021-11-17T21:12:43.846Z"
   },
   {
    "duration": 4,
    "start_time": "2021-11-17T21:13:08.773Z"
   },
   {
    "duration": 3,
    "start_time": "2021-11-17T21:14:44.441Z"
   },
   {
    "duration": 3,
    "start_time": "2021-11-17T21:15:42.059Z"
   },
   {
    "duration": 4,
    "start_time": "2021-11-17T21:15:51.995Z"
   },
   {
    "duration": 3,
    "start_time": "2021-11-17T21:15:53.923Z"
   },
   {
    "duration": 3,
    "start_time": "2021-11-17T21:15:55.282Z"
   },
   {
    "duration": 3,
    "start_time": "2021-11-17T21:16:28.492Z"
   },
   {
    "duration": 3,
    "start_time": "2021-11-17T21:16:32.603Z"
   },
   {
    "duration": 3,
    "start_time": "2021-11-17T21:17:06.941Z"
   },
   {
    "duration": 98,
    "start_time": "2021-11-17T21:18:05.733Z"
   },
   {
    "duration": 4,
    "start_time": "2021-11-17T21:21:35.255Z"
   },
   {
    "duration": 3,
    "start_time": "2021-11-17T21:21:37.804Z"
   },
   {
    "duration": 4,
    "start_time": "2021-11-17T21:23:06.071Z"
   },
   {
    "duration": 3,
    "start_time": "2021-11-17T21:23:24.799Z"
   },
   {
    "duration": 3,
    "start_time": "2021-11-17T21:23:32.591Z"
   },
   {
    "duration": 98,
    "start_time": "2021-11-17T21:28:31.559Z"
   },
   {
    "duration": 3,
    "start_time": "2021-11-17T21:28:45.448Z"
   },
   {
    "duration": 3,
    "start_time": "2021-11-17T21:29:17.303Z"
   },
   {
    "duration": 3,
    "start_time": "2021-11-17T21:29:29.617Z"
   },
   {
    "duration": 3,
    "start_time": "2021-11-17T21:29:32.681Z"
   },
   {
    "duration": 3,
    "start_time": "2021-11-17T21:36:11.474Z"
   },
   {
    "duration": 3,
    "start_time": "2021-11-17T21:36:14.791Z"
   },
   {
    "duration": 3,
    "start_time": "2021-11-17T21:36:53.943Z"
   },
   {
    "duration": 3,
    "start_time": "2021-11-17T21:36:56.165Z"
   },
   {
    "duration": 4,
    "start_time": "2021-11-17T21:37:16.590Z"
   },
   {
    "duration": 3,
    "start_time": "2021-11-17T21:37:22.702Z"
   },
   {
    "duration": 4,
    "start_time": "2021-11-17T21:38:03.479Z"
   },
   {
    "duration": 3,
    "start_time": "2021-11-17T21:38:08.601Z"
   },
   {
    "duration": 3,
    "start_time": "2021-11-17T21:38:12.928Z"
   },
   {
    "duration": 3,
    "start_time": "2021-11-17T21:38:48.896Z"
   },
   {
    "duration": 2,
    "start_time": "2021-11-17T21:38:49.171Z"
   },
   {
    "duration": 4,
    "start_time": "2021-11-17T21:39:57.889Z"
   },
   {
    "duration": 3,
    "start_time": "2021-11-17T21:39:58.057Z"
   },
   {
    "duration": 3,
    "start_time": "2021-11-17T21:41:20.108Z"
   },
   {
    "duration": 3,
    "start_time": "2021-11-17T21:41:20.629Z"
   },
   {
    "duration": 3,
    "start_time": "2021-11-17T21:42:49.136Z"
   },
   {
    "duration": 3,
    "start_time": "2021-11-17T21:43:15.137Z"
   },
   {
    "duration": 4,
    "start_time": "2021-11-17T21:43:16.766Z"
   },
   {
    "duration": 4,
    "start_time": "2021-11-17T21:43:31.711Z"
   },
   {
    "duration": 3,
    "start_time": "2021-11-17T21:43:36.312Z"
   },
   {
    "duration": 4,
    "start_time": "2021-11-17T21:45:08.825Z"
   },
   {
    "duration": 4,
    "start_time": "2021-11-17T21:45:10.119Z"
   },
   {
    "duration": 4,
    "start_time": "2021-11-17T21:45:13.748Z"
   },
   {
    "duration": 3,
    "start_time": "2021-11-17T21:45:22.219Z"
   },
   {
    "duration": 3,
    "start_time": "2021-11-17T21:45:33.412Z"
   },
   {
    "duration": 2,
    "start_time": "2021-11-17T21:46:01.885Z"
   },
   {
    "duration": 3,
    "start_time": "2021-11-17T21:46:03.628Z"
   },
   {
    "duration": 107,
    "start_time": "2021-11-17T21:47:32.512Z"
   },
   {
    "duration": 103,
    "start_time": "2021-11-17T21:50:36.243Z"
   },
   {
    "duration": 3,
    "start_time": "2021-11-18T06:28:31.440Z"
   },
   {
    "duration": 3,
    "start_time": "2021-11-18T06:29:00.168Z"
   },
   {
    "duration": 3,
    "start_time": "2021-11-18T06:31:27.008Z"
   },
   {
    "duration": 2,
    "start_time": "2021-11-18T06:35:34.288Z"
   },
   {
    "duration": 2,
    "start_time": "2021-11-18T06:38:04.527Z"
   }
  ],
  "kernelspec": {
   "display_name": "Python 3 (ipykernel)",
   "language": "python",
   "name": "python3"
  },
  "language_info": {
   "codemirror_mode": {
    "name": "ipython",
    "version": 3
   },
   "file_extension": ".py",
   "mimetype": "text/x-python",
   "name": "python",
   "nbconvert_exporter": "python",
   "pygments_lexer": "ipython3",
   "version": "3.11.5"
  },
  "toc": {
   "base_numbering": 1,
   "nav_menu": {},
   "number_sections": true,
   "sideBar": true,
   "skip_h1_title": false,
   "title_cell": "Table of Contents",
   "title_sidebar": "Contents",
   "toc_cell": false,
   "toc_position": {
    "height": "calc(100% - 180px)",
    "left": "10px",
    "top": "150px",
    "width": "250.98px"
   },
   "toc_section_display": true,
   "toc_window_display": true
  }
 },
 "nbformat": 4,
 "nbformat_minor": 2
}
